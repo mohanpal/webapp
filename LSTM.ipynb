{
 "metadata": {
  "language_info": {
   "codemirror_mode": {
    "name": "ipython",
    "version": 3
   },
   "file_extension": ".py",
   "mimetype": "text/x-python",
   "name": "python",
   "nbconvert_exporter": "python",
   "pygments_lexer": "ipython3",
   "version": "3.8.6-final"
  },
  "orig_nbformat": 2,
  "kernelspec": {
   "name": "python3",
   "display_name": "Python 3"
  }
 },
 "nbformat": 4,
 "nbformat_minor": 2,
 "cells": [
  {
   "cell_type": "code",
   "execution_count": 233,
   "metadata": {},
   "outputs": [],
   "source": [
    "import pandas as pd \n",
    "import numpy as np"
   ]
  },
  {
   "cell_type": "code",
   "execution_count": 234,
   "metadata": {},
   "outputs": [
    {
     "output_type": "execute_result",
     "data": {
      "text/plain": [
       "           Date    MaxTemp    MinTemp  TOTALDEMAND        RRP        DAILYT\n",
       "0    2018-01-01  24.866667  16.500000  3988.814894  71.063404  6.149738e+06\n",
       "1    2018-01-02  22.533333  16.250000  4581.217083  71.768750  6.381157e+06\n",
       "2    2018-01-03  21.433333  14.033333  4889.427500  77.660000  6.219129e+06\n",
       "3    2018-01-04  23.300000  12.833333  4117.376250  73.070833  6.730797e+06\n",
       "4    2018-01-05  31.000000  13.433333  5110.093125  72.521667  7.976139e+06\n",
       "..          ...        ...        ...          ...        ...           ...\n",
       "816  2020-03-27  27.700000  12.433333  4664.926875  48.927500  6.698559e+06\n",
       "817  2020-03-28  27.966667  13.433333  4080.154792  46.997083  6.587342e+06\n",
       "818  2020-03-29  26.966667  18.066667  3998.050208  41.331250  7.075753e+06\n",
       "819  2020-03-30  21.833333  15.366667  4486.979583  56.481875  6.653502e+06\n",
       "820  2020-03-31  20.966667  10.900000  4543.494375  57.191875  6.497988e+06\n",
       "\n",
       "[821 rows x 6 columns]"
      ],
      "text/html": "<div>\n<style scoped>\n    .dataframe tbody tr th:only-of-type {\n        vertical-align: middle;\n    }\n\n    .dataframe tbody tr th {\n        vertical-align: top;\n    }\n\n    .dataframe thead th {\n        text-align: right;\n    }\n</style>\n<table border=\"1\" class=\"dataframe\">\n  <thead>\n    <tr style=\"text-align: right;\">\n      <th></th>\n      <th>Date</th>\n      <th>MaxTemp</th>\n      <th>MinTemp</th>\n      <th>TOTALDEMAND</th>\n      <th>RRP</th>\n      <th>DAILYT</th>\n    </tr>\n  </thead>\n  <tbody>\n    <tr>\n      <th>0</th>\n      <td>2018-01-01</td>\n      <td>24.866667</td>\n      <td>16.500000</td>\n      <td>3988.814894</td>\n      <td>71.063404</td>\n      <td>6.149738e+06</td>\n    </tr>\n    <tr>\n      <th>1</th>\n      <td>2018-01-02</td>\n      <td>22.533333</td>\n      <td>16.250000</td>\n      <td>4581.217083</td>\n      <td>71.768750</td>\n      <td>6.381157e+06</td>\n    </tr>\n    <tr>\n      <th>2</th>\n      <td>2018-01-03</td>\n      <td>21.433333</td>\n      <td>14.033333</td>\n      <td>4889.427500</td>\n      <td>77.660000</td>\n      <td>6.219129e+06</td>\n    </tr>\n    <tr>\n      <th>3</th>\n      <td>2018-01-04</td>\n      <td>23.300000</td>\n      <td>12.833333</td>\n      <td>4117.376250</td>\n      <td>73.070833</td>\n      <td>6.730797e+06</td>\n    </tr>\n    <tr>\n      <th>4</th>\n      <td>2018-01-05</td>\n      <td>31.000000</td>\n      <td>13.433333</td>\n      <td>5110.093125</td>\n      <td>72.521667</td>\n      <td>7.976139e+06</td>\n    </tr>\n    <tr>\n      <th>...</th>\n      <td>...</td>\n      <td>...</td>\n      <td>...</td>\n      <td>...</td>\n      <td>...</td>\n      <td>...</td>\n    </tr>\n    <tr>\n      <th>816</th>\n      <td>2020-03-27</td>\n      <td>27.700000</td>\n      <td>12.433333</td>\n      <td>4664.926875</td>\n      <td>48.927500</td>\n      <td>6.698559e+06</td>\n    </tr>\n    <tr>\n      <th>817</th>\n      <td>2020-03-28</td>\n      <td>27.966667</td>\n      <td>13.433333</td>\n      <td>4080.154792</td>\n      <td>46.997083</td>\n      <td>6.587342e+06</td>\n    </tr>\n    <tr>\n      <th>818</th>\n      <td>2020-03-29</td>\n      <td>26.966667</td>\n      <td>18.066667</td>\n      <td>3998.050208</td>\n      <td>41.331250</td>\n      <td>7.075753e+06</td>\n    </tr>\n    <tr>\n      <th>819</th>\n      <td>2020-03-30</td>\n      <td>21.833333</td>\n      <td>15.366667</td>\n      <td>4486.979583</td>\n      <td>56.481875</td>\n      <td>6.653502e+06</td>\n    </tr>\n    <tr>\n      <th>820</th>\n      <td>2020-03-31</td>\n      <td>20.966667</td>\n      <td>10.900000</td>\n      <td>4543.494375</td>\n      <td>57.191875</td>\n      <td>6.497988e+06</td>\n    </tr>\n  </tbody>\n</table>\n<p>821 rows × 6 columns</p>\n</div>"
     },
     "metadata": {},
     "execution_count": 234
    }
   ],
   "source": [
    "df_final = pd.read_csv(\"C:/Users/HP/Desktop/datathon/App/final_data.csv\")\n",
    "df_final"
   ]
  },
  {
   "cell_type": "code",
   "execution_count": 235,
   "metadata": {},
   "outputs": [],
   "source": [
    "df_final['Date'] = pd.to_datetime(df_final['Date'])"
   ]
  },
  {
   "cell_type": "code",
   "execution_count": 236,
   "metadata": {},
   "outputs": [
    {
     "output_type": "stream",
     "name": "stdout",
     "text": [
      "<class 'pandas.core.frame.DataFrame'>\nRangeIndex: 821 entries, 0 to 820\nData columns (total 6 columns):\n #   Column       Non-Null Count  Dtype         \n---  ------       --------------  -----         \n 0   Date         821 non-null    datetime64[ns]\n 1   MaxTemp      821 non-null    float64       \n 2   MinTemp      821 non-null    float64       \n 3   TOTALDEMAND  821 non-null    float64       \n 4   RRP          821 non-null    float64       \n 5   DAILYT       821 non-null    float64       \ndtypes: datetime64[ns](1), float64(5)\nmemory usage: 38.6 KB\n"
     ]
    }
   ],
   "source": [
    "df_final.info()"
   ]
  },
  {
   "cell_type": "code",
   "execution_count": 237,
   "metadata": {},
   "outputs": [
    {
     "output_type": "execute_result",
     "data": {
      "text/plain": [
       "              MaxTemp    MinTemp  TOTALDEMAND        RRP        DAILYT\n",
       "Date                                                                  \n",
       "2018-01-01  24.866667  16.500000  3988.814894  71.063404  6.149738e+06\n",
       "2018-01-02  22.533333  16.250000  4581.217083  71.768750  6.381157e+06\n",
       "2018-01-03  21.433333  14.033333  4889.427500  77.660000  6.219129e+06\n",
       "2018-01-04  23.300000  12.833333  4117.376250  73.070833  6.730797e+06\n",
       "2018-01-05  31.000000  13.433333  5110.093125  72.521667  7.976139e+06"
      ],
      "text/html": "<div>\n<style scoped>\n    .dataframe tbody tr th:only-of-type {\n        vertical-align: middle;\n    }\n\n    .dataframe tbody tr th {\n        vertical-align: top;\n    }\n\n    .dataframe thead th {\n        text-align: right;\n    }\n</style>\n<table border=\"1\" class=\"dataframe\">\n  <thead>\n    <tr style=\"text-align: right;\">\n      <th></th>\n      <th>MaxTemp</th>\n      <th>MinTemp</th>\n      <th>TOTALDEMAND</th>\n      <th>RRP</th>\n      <th>DAILYT</th>\n    </tr>\n    <tr>\n      <th>Date</th>\n      <th></th>\n      <th></th>\n      <th></th>\n      <th></th>\n      <th></th>\n    </tr>\n  </thead>\n  <tbody>\n    <tr>\n      <th>2018-01-01</th>\n      <td>24.866667</td>\n      <td>16.500000</td>\n      <td>3988.814894</td>\n      <td>71.063404</td>\n      <td>6.149738e+06</td>\n    </tr>\n    <tr>\n      <th>2018-01-02</th>\n      <td>22.533333</td>\n      <td>16.250000</td>\n      <td>4581.217083</td>\n      <td>71.768750</td>\n      <td>6.381157e+06</td>\n    </tr>\n    <tr>\n      <th>2018-01-03</th>\n      <td>21.433333</td>\n      <td>14.033333</td>\n      <td>4889.427500</td>\n      <td>77.660000</td>\n      <td>6.219129e+06</td>\n    </tr>\n    <tr>\n      <th>2018-01-04</th>\n      <td>23.300000</td>\n      <td>12.833333</td>\n      <td>4117.376250</td>\n      <td>73.070833</td>\n      <td>6.730797e+06</td>\n    </tr>\n    <tr>\n      <th>2018-01-05</th>\n      <td>31.000000</td>\n      <td>13.433333</td>\n      <td>5110.093125</td>\n      <td>72.521667</td>\n      <td>7.976139e+06</td>\n    </tr>\n  </tbody>\n</table>\n</div>"
     },
     "metadata": {},
     "execution_count": 237
    }
   ],
   "source": [
    "df_final.set_index(['Date'], inplace=True)\n",
    "\n",
    "df_final.head()"
   ]
  },
  {
   "cell_type": "code",
   "execution_count": 238,
   "metadata": {},
   "outputs": [],
   "source": [
    "#Neural Network\n",
    "from sklearn.preprocessing import MinMaxScaler\n",
    "from tensorflow.keras import Sequential\n",
    "from tensorflow.keras.layers import Dense, LSTM, Dropout\n",
    "from keras.preprocessing.sequence import TimeseriesGenerator\n",
    "from sklearn.model_selection import train_test_split\n",
    "import tensorflow as tf\n"
   ]
  },
  {
   "cell_type": "code",
   "execution_count": 239,
   "metadata": {},
   "outputs": [],
   "source": [
    "scaler = MinMaxScaler()\n",
    "data_normal = scaler.fit_transform(df_final)"
   ]
  },
  {
   "cell_type": "code",
   "execution_count": 240,
   "metadata": {},
   "outputs": [],
   "source": [
    "features = data_normal\n",
    "target = data_normal[:,0]"
   ]
  },
  {
   "cell_type": "code",
   "execution_count": 241,
   "metadata": {},
   "outputs": [
    {
     "output_type": "execute_result",
     "data": {
      "text/plain": [
       "<tensorflow.python.keras.preprocessing.sequence.TimeseriesGenerator at 0x117429f7c40>"
      ]
     },
     "metadata": {},
     "execution_count": 241
    }
   ],
   "source": [
    "TimeseriesGenerator(features, target, length=50, sampling_rate=1, batch_size=1)"
   ]
  },
  {
   "cell_type": "code",
   "execution_count": 242,
   "metadata": {},
   "outputs": [],
   "source": [
    "x_train, x_test, y_train, y_test = train_test_split(features, target, test_size=0.20, shuffle=False)"
   ]
  },
  {
   "cell_type": "code",
   "execution_count": 243,
   "metadata": {},
   "outputs": [],
   "source": [
    "win_length=30\n",
    "batch_size=32\n",
    "num_features = 5\n",
    "train_generator = TimeseriesGenerator(x_train,y_train,length=win_length,sampling_rate=1,batch_size=batch_size)\n",
    "test_generator = TimeseriesGenerator(x_test,y_test,length=win_length,sampling_rate=1,batch_size=batch_size)"
   ]
  },
  {
   "cell_type": "code",
   "execution_count": 244,
   "metadata": {},
   "outputs": [],
   "source": [
    "model = tf.keras.Sequential()\n",
    "model.add(tf.keras.layers.LSTM(128, input_shape= (win_length,num_features), return_sequences=True))\n",
    "model.add(tf.keras.layers.LeakyReLU(alpha=0.5))\n",
    "model.add(tf.keras.layers.LSTM(128, return_sequences=True))\n",
    "model.add(tf.keras.layers.LeakyReLU(alpha=0.5))\n",
    "model.add(tf.keras.layers.Dropout(0.3))\n",
    "model.add(tf.keras.layers.LSTM(64, return_sequences=False))\n",
    "model.add(tf.keras.layers.Dropout(0.3))\n",
    "model.add(tf.keras.layers.Dense(1))\n"
   ]
  },
  {
   "cell_type": "code",
   "execution_count": 245,
   "metadata": {},
   "outputs": [
    {
     "output_type": "stream",
     "name": "stdout",
     "text": [
      "Model: \"sequential_5\"\n_________________________________________________________________\nLayer (type)                 Output Shape              Param #   \n=================================================================\nlstm_15 (LSTM)               (None, 30, 128)           68608     \n_________________________________________________________________\nleaky_re_lu_10 (LeakyReLU)   (None, 30, 128)           0         \n_________________________________________________________________\nlstm_16 (LSTM)               (None, 30, 128)           131584    \n_________________________________________________________________\nleaky_re_lu_11 (LeakyReLU)   (None, 30, 128)           0         \n_________________________________________________________________\ndropout_10 (Dropout)         (None, 30, 128)           0         \n_________________________________________________________________\nlstm_17 (LSTM)               (None, 64)                49408     \n_________________________________________________________________\ndropout_11 (Dropout)         (None, 64)                0         \n_________________________________________________________________\ndense_5 (Dense)              (None, 1)                 65        \n=================================================================\nTotal params: 249,665\nTrainable params: 249,665\nNon-trainable params: 0\n_________________________________________________________________\n"
     ]
    }
   ],
   "source": [
    "model.summary()"
   ]
  },
  {
   "cell_type": "code",
   "execution_count": 246,
   "metadata": {
    "tags": [
     "outputPrepend"
    ]
   },
   "outputs": [
    {
     "output_type": "stream",
     "name": "stdout",
     "text": [
      "] - 2s 78ms/step - loss: 0.0156 - mean_absolute_error: 0.0942 - val_loss: 0.0320 - val_mean_absolute_error: 0.1445\n",
      "Epoch 31/150\n",
      "20/20 [==============================] - 1s 70ms/step - loss: 0.0163 - mean_absolute_error: 0.0948 - val_loss: 0.0327 - val_mean_absolute_error: 0.1477\n",
      "Epoch 32/150\n",
      "20/20 [==============================] - 1s 73ms/step - loss: 0.0165 - mean_absolute_error: 0.0961 - val_loss: 0.0322 - val_mean_absolute_error: 0.1448\n",
      "Epoch 33/150\n",
      "20/20 [==============================] - 2s 87ms/step - loss: 0.0161 - mean_absolute_error: 0.0958 - val_loss: 0.0319 - val_mean_absolute_error: 0.1431\n",
      "Epoch 34/150\n",
      "20/20 [==============================] - 1s 75ms/step - loss: 0.0154 - mean_absolute_error: 0.0931 - val_loss: 0.0330 - val_mean_absolute_error: 0.1484\n",
      "Epoch 35/150\n",
      "20/20 [==============================] - 1s 75ms/step - loss: 0.0171 - mean_absolute_error: 0.0965 - val_loss: 0.0354 - val_mean_absolute_error: 0.1590\n",
      "Epoch 36/150\n",
      "20/20 [==============================] - 1s 70ms/step - loss: 0.0167 - mean_absolute_error: 0.0978 - val_loss: 0.0320 - val_mean_absolute_error: 0.1440\n",
      "Epoch 37/150\n",
      "20/20 [==============================] - 2s 78ms/step - loss: 0.0161 - mean_absolute_error: 0.0938 - val_loss: 0.0361 - val_mean_absolute_error: 0.1609\n",
      "Epoch 38/150\n",
      "20/20 [==============================] - 2s 99ms/step - loss: 0.0174 - mean_absolute_error: 0.0973 - val_loss: 0.0347 - val_mean_absolute_error: 0.1567\n",
      "Epoch 39/150\n",
      "20/20 [==============================] - 2s 91ms/step - loss: 0.0169 - mean_absolute_error: 0.0961 - val_loss: 0.0350 - val_mean_absolute_error: 0.1579\n",
      "Epoch 40/150\n",
      "20/20 [==============================] - 3s 137ms/step - loss: 0.0180 - mean_absolute_error: 0.0986 - val_loss: 0.0348 - val_mean_absolute_error: 0.1569\n",
      "Epoch 41/150\n",
      "20/20 [==============================] - 3s 148ms/step - loss: 0.0161 - mean_absolute_error: 0.0949 - val_loss: 0.0344 - val_mean_absolute_error: 0.1553\n",
      "Epoch 42/150\n",
      "20/20 [==============================] - 2s 104ms/step - loss: 0.0174 - mean_absolute_error: 0.0962 - val_loss: 0.0337 - val_mean_absolute_error: 0.1523\n",
      "Epoch 43/150\n",
      "20/20 [==============================] - 2s 90ms/step - loss: 0.0156 - mean_absolute_error: 0.0939 - val_loss: 0.0324 - val_mean_absolute_error: 0.1458\n",
      "Epoch 44/150\n",
      "20/20 [==============================] - 2s 85ms/step - loss: 0.0158 - mean_absolute_error: 0.0932 - val_loss: 0.0321 - val_mean_absolute_error: 0.1435\n",
      "Epoch 45/150\n",
      "20/20 [==============================] - 2s 78ms/step - loss: 0.0150 - mean_absolute_error: 0.0919 - val_loss: 0.0339 - val_mean_absolute_error: 0.1522\n",
      "Epoch 46/150\n",
      "20/20 [==============================] - 2s 78ms/step - loss: 0.0161 - mean_absolute_error: 0.0950 - val_loss: 0.0326 - val_mean_absolute_error: 0.1462\n",
      "Epoch 47/150\n",
      "20/20 [==============================] - 2s 81ms/step - loss: 0.0145 - mean_absolute_error: 0.0917 - val_loss: 0.0325 - val_mean_absolute_error: 0.1446\n",
      "Epoch 48/150\n",
      "20/20 [==============================] - 2s 78ms/step - loss: 0.0151 - mean_absolute_error: 0.0920 - val_loss: 0.0333 - val_mean_absolute_error: 0.1488\n",
      "Epoch 49/150\n",
      "20/20 [==============================] - 2s 80ms/step - loss: 0.0148 - mean_absolute_error: 0.0914 - val_loss: 0.0338 - val_mean_absolute_error: 0.1512\n",
      "Epoch 50/150\n",
      "20/20 [==============================] - 2s 87ms/step - loss: 0.0159 - mean_absolute_error: 0.0943 - val_loss: 0.0336 - val_mean_absolute_error: 0.1505\n",
      "Epoch 51/150\n",
      "20/20 [==============================] - 1s 74ms/step - loss: 0.0144 - mean_absolute_error: 0.0901 - val_loss: 0.0330 - val_mean_absolute_error: 0.1474\n",
      "Epoch 52/150\n",
      "20/20 [==============================] - 1s 73ms/step - loss: 0.0149 - mean_absolute_error: 0.0907 - val_loss: 0.0339 - val_mean_absolute_error: 0.1517\n",
      "Epoch 53/150\n",
      "20/20 [==============================] - 1s 74ms/step - loss: 0.0159 - mean_absolute_error: 0.0945 - val_loss: 0.0361 - val_mean_absolute_error: 0.1600\n",
      "Epoch 54/150\n",
      "20/20 [==============================] - 1s 73ms/step - loss: 0.0164 - mean_absolute_error: 0.0943 - val_loss: 0.0331 - val_mean_absolute_error: 0.1489\n",
      "Epoch 55/150\n",
      "20/20 [==============================] - 1s 72ms/step - loss: 0.0150 - mean_absolute_error: 0.0919 - val_loss: 0.0328 - val_mean_absolute_error: 0.1473\n",
      "Epoch 56/150\n",
      "20/20 [==============================] - 1s 72ms/step - loss: 0.0144 - mean_absolute_error: 0.0899 - val_loss: 0.0339 - val_mean_absolute_error: 0.1512\n",
      "Epoch 57/150\n",
      "20/20 [==============================] - 1s 71ms/step - loss: 0.0140 - mean_absolute_error: 0.0883 - val_loss: 0.0347 - val_mean_absolute_error: 0.1543\n",
      "Epoch 58/150\n",
      "20/20 [==============================] - 1s 71ms/step - loss: 0.0149 - mean_absolute_error: 0.0912 - val_loss: 0.0339 - val_mean_absolute_error: 0.1504\n",
      "Epoch 59/150\n",
      "20/20 [==============================] - 1s 71ms/step - loss: 0.0142 - mean_absolute_error: 0.0894 - val_loss: 0.0333 - val_mean_absolute_error: 0.1475\n",
      "Epoch 60/150\n",
      "20/20 [==============================] - 1s 72ms/step - loss: 0.0139 - mean_absolute_error: 0.0887 - val_loss: 0.0330 - val_mean_absolute_error: 0.1472\n",
      "Epoch 61/150\n",
      "20/20 [==============================] - 1s 71ms/step - loss: 0.0141 - mean_absolute_error: 0.0887 - val_loss: 0.0330 - val_mean_absolute_error: 0.1471\n",
      "Epoch 62/150\n",
      "20/20 [==============================] - 1s 72ms/step - loss: 0.0136 - mean_absolute_error: 0.0884 - val_loss: 0.0328 - val_mean_absolute_error: 0.1476\n",
      "Epoch 63/150\n",
      "20/20 [==============================] - 1s 71ms/step - loss: 0.0146 - mean_absolute_error: 0.0899 - val_loss: 0.0329 - val_mean_absolute_error: 0.1476\n",
      "Epoch 64/150\n",
      "20/20 [==============================] - 1s 71ms/step - loss: 0.0148 - mean_absolute_error: 0.0932 - val_loss: 0.0346 - val_mean_absolute_error: 0.1354\n",
      "Epoch 65/150\n",
      "20/20 [==============================] - 1s 70ms/step - loss: 0.0144 - mean_absolute_error: 0.0906 - val_loss: 0.0343 - val_mean_absolute_error: 0.1310\n",
      "Epoch 66/150\n",
      "20/20 [==============================] - 1s 71ms/step - loss: 0.0152 - mean_absolute_error: 0.0944 - val_loss: 0.0333 - val_mean_absolute_error: 0.1300\n",
      "Epoch 67/150\n",
      "20/20 [==============================] - 1s 71ms/step - loss: 0.0146 - mean_absolute_error: 0.0932 - val_loss: 0.0317 - val_mean_absolute_error: 0.1318\n",
      "Epoch 68/150\n",
      "20/20 [==============================] - 1s 71ms/step - loss: 0.0134 - mean_absolute_error: 0.0888 - val_loss: 0.0324 - val_mean_absolute_error: 0.1312\n",
      "Epoch 69/150\n",
      "20/20 [==============================] - 2s 77ms/step - loss: 0.0137 - mean_absolute_error: 0.0895 - val_loss: 0.0317 - val_mean_absolute_error: 0.1323\n",
      "Epoch 70/150\n",
      "20/20 [==============================] - 2s 81ms/step - loss: 0.0129 - mean_absolute_error: 0.0851 - val_loss: 0.0334 - val_mean_absolute_error: 0.1309\n",
      "Epoch 71/150\n",
      "20/20 [==============================] - 2s 90ms/step - loss: 0.0129 - mean_absolute_error: 0.0864 - val_loss: 0.0347 - val_mean_absolute_error: 0.1313\n",
      "Epoch 72/150\n",
      "20/20 [==============================] - 2s 93ms/step - loss: 0.0134 - mean_absolute_error: 0.0890 - val_loss: 0.0334 - val_mean_absolute_error: 0.1311\n",
      "Epoch 73/150\n",
      "20/20 [==============================] - 2s 111ms/step - loss: 0.0131 - mean_absolute_error: 0.0875 - val_loss: 0.0313 - val_mean_absolute_error: 0.1345\n",
      "Epoch 74/150\n",
      "20/20 [==============================] - 3s 135ms/step - loss: 0.0128 - mean_absolute_error: 0.0852 - val_loss: 0.0341 - val_mean_absolute_error: 0.1319\n",
      "Epoch 75/150\n",
      "20/20 [==============================] - 2s 90ms/step - loss: 0.0126 - mean_absolute_error: 0.0848 - val_loss: 0.0356 - val_mean_absolute_error: 0.1325\n",
      "Epoch 76/150\n",
      "20/20 [==============================] - 2s 82ms/step - loss: 0.0130 - mean_absolute_error: 0.0861 - val_loss: 0.0304 - val_mean_absolute_error: 0.1335\n",
      "Epoch 77/150\n",
      "20/20 [==============================] - 1s 71ms/step - loss: 0.0125 - mean_absolute_error: 0.0842 - val_loss: 0.0309 - val_mean_absolute_error: 0.1340\n",
      "Epoch 78/150\n",
      "20/20 [==============================] - 2s 82ms/step - loss: 0.0123 - mean_absolute_error: 0.0819 - val_loss: 0.0299 - val_mean_absolute_error: 0.1330\n",
      "Epoch 79/150\n",
      "20/20 [==============================] - 2s 88ms/step - loss: 0.0123 - mean_absolute_error: 0.0839 - val_loss: 0.0309 - val_mean_absolute_error: 0.1305\n",
      "Epoch 80/150\n",
      "20/20 [==============================] - 2s 88ms/step - loss: 0.0122 - mean_absolute_error: 0.0841 - val_loss: 0.0313 - val_mean_absolute_error: 0.1301\n",
      "Epoch 81/150\n",
      "20/20 [==============================] - 2s 81ms/step - loss: 0.0121 - mean_absolute_error: 0.0830 - val_loss: 0.0328 - val_mean_absolute_error: 0.1305\n",
      "Epoch 82/150\n",
      "20/20 [==============================] - 2s 80ms/step - loss: 0.0125 - mean_absolute_error: 0.0844 - val_loss: 0.0337 - val_mean_absolute_error: 0.1307\n",
      "Epoch 83/150\n",
      "20/20 [==============================] - 2s 84ms/step - loss: 0.0128 - mean_absolute_error: 0.0850 - val_loss: 0.0303 - val_mean_absolute_error: 0.1421\n",
      "Epoch 84/150\n",
      "20/20 [==============================] - 2s 101ms/step - loss: 0.0146 - mean_absolute_error: 0.0887 - val_loss: 0.0308 - val_mean_absolute_error: 0.1447\n",
      "Epoch 85/150\n",
      "20/20 [==============================] - 2s 90ms/step - loss: 0.0137 - mean_absolute_error: 0.0895 - val_loss: 0.0300 - val_mean_absolute_error: 0.1353\n",
      "Epoch 86/150\n",
      "20/20 [==============================] - 2s 92ms/step - loss: 0.0113 - mean_absolute_error: 0.0805 - val_loss: 0.0303 - val_mean_absolute_error: 0.1316\n",
      "Epoch 87/150\n",
      "20/20 [==============================] - 2s 88ms/step - loss: 0.0112 - mean_absolute_error: 0.0797 - val_loss: 0.0302 - val_mean_absolute_error: 0.1342\n",
      "Epoch 88/150\n",
      "20/20 [==============================] - 2s 90ms/step - loss: 0.0109 - mean_absolute_error: 0.0779 - val_loss: 0.0301 - val_mean_absolute_error: 0.1355\n",
      "Epoch 89/150\n",
      "20/20 [==============================] - 2s 93ms/step - loss: 0.0115 - mean_absolute_error: 0.0795 - val_loss: 0.0309 - val_mean_absolute_error: 0.1386\n",
      "Epoch 90/150\n",
      "20/20 [==============================] - 2s 112ms/step - loss: 0.0108 - mean_absolute_error: 0.0769 - val_loss: 0.0303 - val_mean_absolute_error: 0.1388\n",
      "Epoch 91/150\n",
      "20/20 [==============================] - 2s 104ms/step - loss: 0.0113 - mean_absolute_error: 0.0788 - val_loss: 0.0317 - val_mean_absolute_error: 0.1412\n",
      "Epoch 92/150\n",
      "20/20 [==============================] - 3s 139ms/step - loss: 0.0110 - mean_absolute_error: 0.0771 - val_loss: 0.0315 - val_mean_absolute_error: 0.1394\n",
      "Epoch 93/150\n",
      "20/20 [==============================] - 2s 122ms/step - loss: 0.0101 - mean_absolute_error: 0.0737 - val_loss: 0.0301 - val_mean_absolute_error: 0.1343\n",
      "Epoch 94/150\n",
      "20/20 [==============================] - 3s 135ms/step - loss: 0.0110 - mean_absolute_error: 0.0777 - val_loss: 0.0312 - val_mean_absolute_error: 0.1340\n",
      "Epoch 95/150\n",
      "20/20 [==============================] - 3s 142ms/step - loss: 0.0109 - mean_absolute_error: 0.0784 - val_loss: 0.0329 - val_mean_absolute_error: 0.1355\n",
      "Epoch 96/150\n",
      "20/20 [==============================] - 2s 103ms/step - loss: 0.0109 - mean_absolute_error: 0.0791 - val_loss: 0.0373 - val_mean_absolute_error: 0.1398\n",
      "Epoch 97/150\n",
      "20/20 [==============================] - 2s 103ms/step - loss: 0.0115 - mean_absolute_error: 0.0806 - val_loss: 0.0297 - val_mean_absolute_error: 0.1318\n",
      "Epoch 98/150\n",
      "20/20 [==============================] - 3s 127ms/step - loss: 0.0113 - mean_absolute_error: 0.0795 - val_loss: 0.0303 - val_mean_absolute_error: 0.1318\n",
      "Epoch 99/150\n",
      "20/20 [==============================] - 3s 135ms/step - loss: 0.0118 - mean_absolute_error: 0.0824 - val_loss: 0.0341 - val_mean_absolute_error: 0.1331\n",
      "Epoch 100/150\n",
      "20/20 [==============================] - 3s 130ms/step - loss: 0.0108 - mean_absolute_error: 0.0780 - val_loss: 0.0342 - val_mean_absolute_error: 0.1329\n",
      "Epoch 101/150\n",
      "20/20 [==============================] - 3s 142ms/step - loss: 0.0107 - mean_absolute_error: 0.0775 - val_loss: 0.0318 - val_mean_absolute_error: 0.1339\n",
      "Epoch 102/150\n",
      "20/20 [==============================] - 3s 140ms/step - loss: 0.0107 - mean_absolute_error: 0.0764 - val_loss: 0.0313 - val_mean_absolute_error: 0.1344\n",
      "Epoch 103/150\n",
      "20/20 [==============================] - 5s 248ms/step - loss: 0.0102 - mean_absolute_error: 0.0749 - val_loss: 0.0317 - val_mean_absolute_error: 0.1424\n",
      "Epoch 104/150\n",
      "20/20 [==============================] - 3s 163ms/step - loss: 0.0124 - mean_absolute_error: 0.0814 - val_loss: 0.0308 - val_mean_absolute_error: 0.1349\n",
      "Epoch 105/150\n",
      "20/20 [==============================] - 2s 112ms/step - loss: 0.0111 - mean_absolute_error: 0.0790 - val_loss: 0.0295 - val_mean_absolute_error: 0.1323\n",
      "Epoch 106/150\n",
      "20/20 [==============================] - 2s 87ms/step - loss: 0.0100 - mean_absolute_error: 0.0741 - val_loss: 0.0319 - val_mean_absolute_error: 0.1395\n",
      "Epoch 107/150\n",
      "20/20 [==============================] - 2s 95ms/step - loss: 0.0114 - mean_absolute_error: 0.0778 - val_loss: 0.0331 - val_mean_absolute_error: 0.1457\n",
      "Epoch 108/150\n",
      "20/20 [==============================] - 2s 89ms/step - loss: 0.0122 - mean_absolute_error: 0.0811 - val_loss: 0.0330 - val_mean_absolute_error: 0.1440\n",
      "Epoch 109/150\n",
      "20/20 [==============================] - 2s 96ms/step - loss: 0.0114 - mean_absolute_error: 0.0800 - val_loss: 0.0315 - val_mean_absolute_error: 0.1354\n",
      "Epoch 110/150\n",
      "20/20 [==============================] - 2s 99ms/step - loss: 0.0106 - mean_absolute_error: 0.0764 - val_loss: 0.0322 - val_mean_absolute_error: 0.1342\n",
      "Epoch 111/150\n",
      "20/20 [==============================] - 2s 86ms/step - loss: 0.0112 - mean_absolute_error: 0.0789 - val_loss: 0.0316 - val_mean_absolute_error: 0.1369\n",
      "Epoch 112/150\n",
      "20/20 [==============================] - 2s 82ms/step - loss: 0.0099 - mean_absolute_error: 0.0745 - val_loss: 0.0332 - val_mean_absolute_error: 0.1398\n",
      "Epoch 113/150\n",
      "20/20 [==============================] - 2s 83ms/step - loss: 0.0103 - mean_absolute_error: 0.0742 - val_loss: 0.0318 - val_mean_absolute_error: 0.1372\n",
      "Epoch 114/150\n",
      "20/20 [==============================] - 2s 89ms/step - loss: 0.0101 - mean_absolute_error: 0.0744 - val_loss: 0.0344 - val_mean_absolute_error: 0.1404\n",
      "Epoch 115/150\n",
      "20/20 [==============================] - 2s 124ms/step - loss: 0.0103 - mean_absolute_error: 0.0767 - val_loss: 0.0343 - val_mean_absolute_error: 0.1352\n",
      "Epoch 116/150\n",
      "20/20 [==============================] - 2s 109ms/step - loss: 0.0108 - mean_absolute_error: 0.0791 - val_loss: 0.0309 - val_mean_absolute_error: 0.1344\n",
      "Epoch 117/150\n",
      "20/20 [==============================] - 2s 110ms/step - loss: 0.0102 - mean_absolute_error: 0.0745 - val_loss: 0.0312 - val_mean_absolute_error: 0.1358\n",
      "Epoch 118/150\n",
      "20/20 [==============================] - 2s 84ms/step - loss: 0.0103 - mean_absolute_error: 0.0750 - val_loss: 0.0326 - val_mean_absolute_error: 0.1383\n",
      "Epoch 119/150\n",
      "20/20 [==============================] - 3s 130ms/step - loss: 0.0098 - mean_absolute_error: 0.0728 - val_loss: 0.0317 - val_mean_absolute_error: 0.1359\n",
      "Epoch 120/150\n",
      "20/20 [==============================] - 2s 121ms/step - loss: 0.0095 - mean_absolute_error: 0.0730 - val_loss: 0.0345 - val_mean_absolute_error: 0.1395\n",
      "Epoch 121/150\n",
      "20/20 [==============================] - 2s 103ms/step - loss: 0.0093 - mean_absolute_error: 0.0720 - val_loss: 0.0368 - val_mean_absolute_error: 0.1404\n",
      "Epoch 122/150\n",
      "20/20 [==============================] - 2s 89ms/step - loss: 0.0105 - mean_absolute_error: 0.0765 - val_loss: 0.0367 - val_mean_absolute_error: 0.1418\n",
      "Epoch 123/150\n",
      "20/20 [==============================] - 2s 83ms/step - loss: 0.0100 - mean_absolute_error: 0.0743 - val_loss: 0.0322 - val_mean_absolute_error: 0.1327\n",
      "Epoch 124/150\n",
      "20/20 [==============================] - 2s 99ms/step - loss: 0.0104 - mean_absolute_error: 0.0752 - val_loss: 0.0312 - val_mean_absolute_error: 0.1388\n",
      "Epoch 125/150\n",
      "20/20 [==============================] - 2s 101ms/step - loss: 0.0107 - mean_absolute_error: 0.0768 - val_loss: 0.0325 - val_mean_absolute_error: 0.1448\n",
      "Epoch 126/150\n",
      "20/20 [==============================] - 2s 120ms/step - loss: 0.0112 - mean_absolute_error: 0.0805 - val_loss: 0.0319 - val_mean_absolute_error: 0.1365\n",
      "Epoch 127/150\n",
      "20/20 [==============================] - 3s 129ms/step - loss: 0.0095 - mean_absolute_error: 0.0724 - val_loss: 0.0327 - val_mean_absolute_error: 0.1436\n",
      "Epoch 128/150\n",
      "20/20 [==============================] - 2s 102ms/step - loss: 0.0116 - mean_absolute_error: 0.0799 - val_loss: 0.0367 - val_mean_absolute_error: 0.1544\n",
      "Epoch 129/150\n",
      "20/20 [==============================] - 2s 88ms/step - loss: 0.0119 - mean_absolute_error: 0.0799 - val_loss: 0.0330 - val_mean_absolute_error: 0.1425\n",
      "Epoch 130/150\n",
      "20/20 [==============================] - 2s 90ms/step - loss: 0.0103 - mean_absolute_error: 0.0749 - val_loss: 0.0329 - val_mean_absolute_error: 0.1367\n",
      "Epoch 131/150\n",
      "20/20 [==============================] - 2s 85ms/step - loss: 0.0100 - mean_absolute_error: 0.0755 - val_loss: 0.0328 - val_mean_absolute_error: 0.1345\n",
      "Epoch 132/150\n",
      "20/20 [==============================] - 2s 85ms/step - loss: 0.0106 - mean_absolute_error: 0.0771 - val_loss: 0.0338 - val_mean_absolute_error: 0.1353\n",
      "Epoch 133/150\n",
      "20/20 [==============================] - 2s 89ms/step - loss: 0.0098 - mean_absolute_error: 0.0741 - val_loss: 0.0338 - val_mean_absolute_error: 0.1379\n",
      "Epoch 134/150\n",
      "20/20 [==============================] - 2s 87ms/step - loss: 0.0097 - mean_absolute_error: 0.0741 - val_loss: 0.0358 - val_mean_absolute_error: 0.1410\n",
      "Epoch 135/150\n",
      "20/20 [==============================] - 2s 87ms/step - loss: 0.0098 - mean_absolute_error: 0.0731 - val_loss: 0.0323 - val_mean_absolute_error: 0.1350\n",
      "Epoch 136/150\n",
      "20/20 [==============================] - 2s 88ms/step - loss: 0.0095 - mean_absolute_error: 0.0724 - val_loss: 0.0340 - val_mean_absolute_error: 0.1437\n",
      "Epoch 137/150\n",
      "20/20 [==============================] - 2s 92ms/step - loss: 0.0104 - mean_absolute_error: 0.0738 - val_loss: 0.0337 - val_mean_absolute_error: 0.1446\n",
      "Epoch 138/150\n",
      "20/20 [==============================] - 2s 97ms/step - loss: 0.0103 - mean_absolute_error: 0.0749 - val_loss: 0.0324 - val_mean_absolute_error: 0.1402\n",
      "Epoch 139/150\n",
      "20/20 [==============================] - 2s 86ms/step - loss: 0.0093 - mean_absolute_error: 0.0728 - val_loss: 0.0334 - val_mean_absolute_error: 0.1399\n",
      "Epoch 140/150\n",
      "20/20 [==============================] - 2s 87ms/step - loss: 0.0096 - mean_absolute_error: 0.0742 - val_loss: 0.0338 - val_mean_absolute_error: 0.1399\n",
      "Epoch 141/150\n",
      "20/20 [==============================] - 2s 88ms/step - loss: 0.0094 - mean_absolute_error: 0.0721 - val_loss: 0.0341 - val_mean_absolute_error: 0.1420\n",
      "Epoch 142/150\n",
      "20/20 [==============================] - 2s 85ms/step - loss: 0.0111 - mean_absolute_error: 0.0774 - val_loss: 0.0349 - val_mean_absolute_error: 0.1504\n",
      "Epoch 143/150\n",
      "20/20 [==============================] - 2s 90ms/step - loss: 0.0118 - mean_absolute_error: 0.0810 - val_loss: 0.0324 - val_mean_absolute_error: 0.1392\n",
      "Epoch 144/150\n",
      "20/20 [==============================] - 2s 92ms/step - loss: 0.0099 - mean_absolute_error: 0.0741 - val_loss: 0.0329 - val_mean_absolute_error: 0.1394\n",
      "Epoch 145/150\n",
      "20/20 [==============================] - 2s 90ms/step - loss: 0.0092 - mean_absolute_error: 0.0728 - val_loss: 0.0330 - val_mean_absolute_error: 0.1352\n",
      "Epoch 146/150\n",
      "20/20 [==============================] - 2s 87ms/step - loss: 0.0100 - mean_absolute_error: 0.0753 - val_loss: 0.0354 - val_mean_absolute_error: 0.1445\n",
      "Epoch 147/150\n",
      "20/20 [==============================] - 2s 86ms/step - loss: 0.0090 - mean_absolute_error: 0.0699 - val_loss: 0.0354 - val_mean_absolute_error: 0.1421\n",
      "Epoch 148/150\n",
      "20/20 [==============================] - 2s 118ms/step - loss: 0.0090 - mean_absolute_error: 0.0710 - val_loss: 0.0372 - val_mean_absolute_error: 0.1438\n",
      "Epoch 149/150\n",
      "20/20 [==============================] - 2s 111ms/step - loss: 0.0092 - mean_absolute_error: 0.0723 - val_loss: 0.0334 - val_mean_absolute_error: 0.1387\n",
      "Epoch 150/150\n",
      "20/20 [==============================] - 2s 96ms/step - loss: 0.0089 - mean_absolute_error: 0.0690 - val_loss: 0.0344 - val_mean_absolute_error: 0.1485\n"
     ]
    }
   ],
   "source": [
    "model.compile(loss=tf.losses.MeanSquaredError(),\n",
    "              optimizer = tf.optimizers.Adam(),\n",
    "              metrics=[tf.metrics.MeanAbsoluteError()])\n",
    "\n",
    "history = model.fit_generator(train_generator, epochs=150, validation_data=test_generator, shuffle=False)"
   ]
  },
  {
   "cell_type": "code",
   "execution_count": 247,
   "metadata": {},
   "outputs": [],
   "source": [
    "from keras.models import load_model\n"
   ]
  },
  {
   "cell_type": "code",
   "execution_count": 248,
   "metadata": {},
   "outputs": [],
   "source": [
    "model.save('model.h5')"
   ]
  },
  {
   "cell_type": "code",
   "execution_count": 249,
   "metadata": {},
   "outputs": [
    {
     "output_type": "execute_result",
     "data": {
      "text/plain": [
       "[0.034380290657281876, 0.14845804870128632]"
      ]
     },
     "metadata": {},
     "execution_count": 249
    }
   ],
   "source": [
    "model.evaluate_generator(test_generator, verbose=0)"
   ]
  },
  {
   "cell_type": "code",
   "execution_count": 250,
   "metadata": {},
   "outputs": [],
   "source": [
    "predictions = model.predict_generator(test_generator)"
   ]
  },
  {
   "cell_type": "code",
   "execution_count": 251,
   "metadata": {},
   "outputs": [],
   "source": [
    "# x_test[:,1:][win_length:]"
   ]
  },
  {
   "cell_type": "code",
   "execution_count": 252,
   "metadata": {},
   "outputs": [],
   "source": [
    "df_pred = pd.concat([pd.DataFrame(predictions), pd.DataFrame(x_test[:,1:][win_length:])],axis=1)"
   ]
  },
  {
   "cell_type": "code",
   "execution_count": 253,
   "metadata": {},
   "outputs": [],
   "source": [
    "rev_trans = scaler.inverse_transform(df_pred)"
   ]
  },
  {
   "cell_type": "code",
   "execution_count": 254,
   "metadata": {},
   "outputs": [],
   "source": [
    "# rev_trans"
   ]
  },
  {
   "cell_type": "code",
   "execution_count": 255,
   "metadata": {},
   "outputs": [],
   "source": [
    "df_new=df_final[predictions.shape[0]*-1:]"
   ]
  },
  {
   "cell_type": "code",
   "execution_count": 256,
   "metadata": {},
   "outputs": [],
   "source": [
    "df_new['Energy_pred'] = rev_trans[:,0]"
   ]
  },
  {
   "cell_type": "code",
   "execution_count": 257,
   "metadata": {},
   "outputs": [
    {
     "output_type": "execute_result",
     "data": {
      "text/plain": [
       "Index(['MaxTemp', 'MinTemp', 'TOTALDEMAND', 'RRP', 'DAILYT', 'Energy_pred'], dtype='object')"
      ]
     },
     "metadata": {},
     "execution_count": 257
    }
   ],
   "source": [
    "df_new.columns"
   ]
  },
  {
   "cell_type": "code",
   "execution_count": 258,
   "metadata": {},
   "outputs": [
    {
     "output_type": "execute_result",
     "data": {
      "text/plain": [
       "              MaxTemp    MinTemp  TOTALDEMAND        RRP        DAILYT  \\\n",
       "Date                                                                     \n",
       "2019-11-18  26.600000   7.666667        26.60  71.136042  6.234940e+06   \n",
       "2019-11-19  18.533333   9.866667        18.53  81.539583  6.186595e+06   \n",
       "2019-11-20  34.566667   8.550000        34.57  81.728542  7.290828e+06   \n",
       "2019-11-21  41.333333  14.750000        41.33  69.803542  9.236367e+06   \n",
       "2019-11-22  19.700000  12.300000        19.70  64.691042  5.880641e+06   \n",
       "...               ...        ...          ...        ...           ...   \n",
       "2020-03-27  27.700000  12.433333        27.70  48.927500  6.698559e+06   \n",
       "2020-03-28  27.966667  13.433333        27.97  46.997083  6.587342e+06   \n",
       "2020-03-29  26.966667  18.066667        26.97  41.331250  7.075753e+06   \n",
       "2020-03-30  21.833333  15.366667        21.83  56.481875  6.653502e+06   \n",
       "2020-03-31  20.966667  10.900000        20.97  57.191875  6.497988e+06   \n",
       "\n",
       "            Energy_pred  \n",
       "Date                     \n",
       "2019-11-18    21.156991  \n",
       "2019-11-19    27.111471  \n",
       "2019-11-20    21.661121  \n",
       "2019-11-21    31.013093  \n",
       "2019-11-22    26.411423  \n",
       "...                 ...  \n",
       "2020-03-27    22.215101  \n",
       "2020-03-28    23.714676  \n",
       "2020-03-29    22.670021  \n",
       "2020-03-30    21.779292  \n",
       "2020-03-31    20.913742  \n",
       "\n",
       "[135 rows x 6 columns]"
      ],
      "text/html": "<div>\n<style scoped>\n    .dataframe tbody tr th:only-of-type {\n        vertical-align: middle;\n    }\n\n    .dataframe tbody tr th {\n        vertical-align: top;\n    }\n\n    .dataframe thead th {\n        text-align: right;\n    }\n</style>\n<table border=\"1\" class=\"dataframe\">\n  <thead>\n    <tr style=\"text-align: right;\">\n      <th></th>\n      <th>MaxTemp</th>\n      <th>MinTemp</th>\n      <th>TOTALDEMAND</th>\n      <th>RRP</th>\n      <th>DAILYT</th>\n      <th>Energy_pred</th>\n    </tr>\n    <tr>\n      <th>Date</th>\n      <th></th>\n      <th></th>\n      <th></th>\n      <th></th>\n      <th></th>\n      <th></th>\n    </tr>\n  </thead>\n  <tbody>\n    <tr>\n      <th>2019-11-18</th>\n      <td>26.600000</td>\n      <td>7.666667</td>\n      <td>26.60</td>\n      <td>71.136042</td>\n      <td>6.234940e+06</td>\n      <td>21.156991</td>\n    </tr>\n    <tr>\n      <th>2019-11-19</th>\n      <td>18.533333</td>\n      <td>9.866667</td>\n      <td>18.53</td>\n      <td>81.539583</td>\n      <td>6.186595e+06</td>\n      <td>27.111471</td>\n    </tr>\n    <tr>\n      <th>2019-11-20</th>\n      <td>34.566667</td>\n      <td>8.550000</td>\n      <td>34.57</td>\n      <td>81.728542</td>\n      <td>7.290828e+06</td>\n      <td>21.661121</td>\n    </tr>\n    <tr>\n      <th>2019-11-21</th>\n      <td>41.333333</td>\n      <td>14.750000</td>\n      <td>41.33</td>\n      <td>69.803542</td>\n      <td>9.236367e+06</td>\n      <td>31.013093</td>\n    </tr>\n    <tr>\n      <th>2019-11-22</th>\n      <td>19.700000</td>\n      <td>12.300000</td>\n      <td>19.70</td>\n      <td>64.691042</td>\n      <td>5.880641e+06</td>\n      <td>26.411423</td>\n    </tr>\n    <tr>\n      <th>...</th>\n      <td>...</td>\n      <td>...</td>\n      <td>...</td>\n      <td>...</td>\n      <td>...</td>\n      <td>...</td>\n    </tr>\n    <tr>\n      <th>2020-03-27</th>\n      <td>27.700000</td>\n      <td>12.433333</td>\n      <td>27.70</td>\n      <td>48.927500</td>\n      <td>6.698559e+06</td>\n      <td>22.215101</td>\n    </tr>\n    <tr>\n      <th>2020-03-28</th>\n      <td>27.966667</td>\n      <td>13.433333</td>\n      <td>27.97</td>\n      <td>46.997083</td>\n      <td>6.587342e+06</td>\n      <td>23.714676</td>\n    </tr>\n    <tr>\n      <th>2020-03-29</th>\n      <td>26.966667</td>\n      <td>18.066667</td>\n      <td>26.97</td>\n      <td>41.331250</td>\n      <td>7.075753e+06</td>\n      <td>22.670021</td>\n    </tr>\n    <tr>\n      <th>2020-03-30</th>\n      <td>21.833333</td>\n      <td>15.366667</td>\n      <td>21.83</td>\n      <td>56.481875</td>\n      <td>6.653502e+06</td>\n      <td>21.779292</td>\n    </tr>\n    <tr>\n      <th>2020-03-31</th>\n      <td>20.966667</td>\n      <td>10.900000</td>\n      <td>20.97</td>\n      <td>57.191875</td>\n      <td>6.497988e+06</td>\n      <td>20.913742</td>\n    </tr>\n  </tbody>\n</table>\n<p>135 rows × 6 columns</p>\n</div>"
     },
     "metadata": {},
     "execution_count": 258
    }
   ],
   "source": [
    "\n",
    "df_new['TOTALDEMAND'] = df_new.round(2)\n",
    "df_new"
   ]
  },
  {
   "cell_type": "code",
   "execution_count": 259,
   "metadata": {},
   "outputs": [
    {
     "output_type": "execute_result",
     "data": {
      "text/plain": [
       "<AxesSubplot:xlabel='Date'>"
      ]
     },
     "metadata": {},
     "execution_count": 259
    },
    {
     "output_type": "display_data",
     "data": {
      "text/plain": "<Figure size 432x288 with 1 Axes>",
      "image/svg+xml": "<?xml version=\"1.0\" encoding=\"utf-8\" standalone=\"no\"?>\r\n<!DOCTYPE svg PUBLIC \"-//W3C//DTD SVG 1.1//EN\"\r\n  \"http://www.w3.org/Graphics/SVG/1.1/DTD/svg11.dtd\">\r\n<!-- Created with matplotlib (https://matplotlib.org/) -->\r\n<svg height=\"273.394062pt\" version=\"1.1\" viewBox=\"0 0 368.925 273.394062\" width=\"368.925pt\" xmlns=\"http://www.w3.org/2000/svg\" xmlns:xlink=\"http://www.w3.org/1999/xlink\">\r\n <metadata>\r\n  <rdf:RDF xmlns:cc=\"http://creativecommons.org/ns#\" xmlns:dc=\"http://purl.org/dc/elements/1.1/\" xmlns:rdf=\"http://www.w3.org/1999/02/22-rdf-syntax-ns#\">\r\n   <cc:Work>\r\n    <dc:type rdf:resource=\"http://purl.org/dc/dcmitype/StillImage\"/>\r\n    <dc:date>2020-11-08T16:17:07.186578</dc:date>\r\n    <dc:format>image/svg+xml</dc:format>\r\n    <dc:creator>\r\n     <cc:Agent>\r\n      <dc:title>Matplotlib v3.3.2, https://matplotlib.org/</dc:title>\r\n     </cc:Agent>\r\n    </dc:creator>\r\n   </cc:Work>\r\n  </rdf:RDF>\r\n </metadata>\r\n <defs>\r\n  <style type=\"text/css\">*{stroke-linecap:butt;stroke-linejoin:round;}</style>\r\n </defs>\r\n <g id=\"figure_1\">\r\n  <g id=\"patch_1\">\r\n   <path d=\"M -0 273.394062 \r\nL 368.925 273.394062 \r\nL 368.925 0 \r\nL -0 0 \r\nz\r\n\" style=\"fill:none;\"/>\r\n  </g>\r\n  <g id=\"axes_1\">\r\n   <g id=\"patch_2\">\r\n    <path d=\"M 26.925 224.64 \r\nL 361.725 224.64 \r\nL 361.725 7.2 \r\nL 26.925 7.2 \r\nz\r\n\" style=\"fill:#ffffff;\"/>\r\n   </g>\r\n   <g id=\"matplotlib.axis_1\">\r\n    <g id=\"xtick_1\">\r\n     <g id=\"line2d_1\">\r\n      <defs>\r\n       <path d=\"M 0 0 \r\nL 0 3.5 \r\n\" id=\"m08fdb958f5\" style=\"stroke:#000000;stroke-width:0.8;\"/>\r\n      </defs>\r\n      <g>\r\n       <use style=\"stroke:#000000;stroke-width:0.8;\" x=\"26.925\" xlink:href=\"#m08fdb958f5\" y=\"224.64\"/>\r\n      </g>\r\n     </g>\r\n    </g>\r\n    <g id=\"xtick_2\">\r\n     <g id=\"line2d_2\">\r\n      <g>\r\n       <use style=\"stroke:#000000;stroke-width:0.8;\" x=\"59.405597\" xlink:href=\"#m08fdb958f5\" y=\"224.64\"/>\r\n      </g>\r\n     </g>\r\n     <g id=\"text_1\">\r\n      <!-- Dec -->\r\n      <g transform=\"translate(49.729816 239.238437)scale(0.1 -0.1)\">\r\n       <defs>\r\n        <path d=\"M 19.671875 64.796875 \r\nL 19.671875 8.109375 \r\nL 31.59375 8.109375 \r\nQ 46.6875 8.109375 53.6875 14.9375 \r\nQ 60.6875 21.78125 60.6875 36.53125 \r\nQ 60.6875 51.171875 53.6875 57.984375 \r\nQ 46.6875 64.796875 31.59375 64.796875 \r\nz\r\nM 9.8125 72.90625 \r\nL 30.078125 72.90625 \r\nQ 51.265625 72.90625 61.171875 64.09375 \r\nQ 71.09375 55.28125 71.09375 36.53125 \r\nQ 71.09375 17.671875 61.125 8.828125 \r\nQ 51.171875 0 30.078125 0 \r\nL 9.8125 0 \r\nz\r\n\" id=\"DejaVuSans-68\"/>\r\n        <path d=\"M 56.203125 29.59375 \r\nL 56.203125 25.203125 \r\nL 14.890625 25.203125 \r\nQ 15.484375 15.921875 20.484375 11.0625 \r\nQ 25.484375 6.203125 34.421875 6.203125 \r\nQ 39.59375 6.203125 44.453125 7.46875 \r\nQ 49.3125 8.734375 54.109375 11.28125 \r\nL 54.109375 2.78125 \r\nQ 49.265625 0.734375 44.1875 -0.34375 \r\nQ 39.109375 -1.421875 33.890625 -1.421875 \r\nQ 20.796875 -1.421875 13.15625 6.1875 \r\nQ 5.515625 13.8125 5.515625 26.8125 \r\nQ 5.515625 40.234375 12.765625 48.109375 \r\nQ 20.015625 56 32.328125 56 \r\nQ 43.359375 56 49.78125 48.890625 \r\nQ 56.203125 41.796875 56.203125 29.59375 \r\nz\r\nM 47.21875 32.234375 \r\nQ 47.125 39.59375 43.09375 43.984375 \r\nQ 39.0625 48.390625 32.421875 48.390625 \r\nQ 24.90625 48.390625 20.390625 44.140625 \r\nQ 15.875 39.890625 15.1875 32.171875 \r\nz\r\n\" id=\"DejaVuSans-101\"/>\r\n        <path d=\"M 48.78125 52.59375 \r\nL 48.78125 44.1875 \r\nQ 44.96875 46.296875 41.140625 47.34375 \r\nQ 37.3125 48.390625 33.40625 48.390625 \r\nQ 24.65625 48.390625 19.8125 42.84375 \r\nQ 14.984375 37.3125 14.984375 27.296875 \r\nQ 14.984375 17.28125 19.8125 11.734375 \r\nQ 24.65625 6.203125 33.40625 6.203125 \r\nQ 37.3125 6.203125 41.140625 7.25 \r\nQ 44.96875 8.296875 48.78125 10.40625 \r\nL 48.78125 2.09375 \r\nQ 45.015625 0.34375 40.984375 -0.53125 \r\nQ 36.96875 -1.421875 32.421875 -1.421875 \r\nQ 20.0625 -1.421875 12.78125 6.34375 \r\nQ 5.515625 14.109375 5.515625 27.296875 \r\nQ 5.515625 40.671875 12.859375 48.328125 \r\nQ 20.21875 56 33.015625 56 \r\nQ 37.15625 56 41.109375 55.140625 \r\nQ 45.0625 54.296875 48.78125 52.59375 \r\nz\r\n\" id=\"DejaVuSans-99\"/>\r\n       </defs>\r\n       <use xlink:href=\"#DejaVuSans-68\"/>\r\n       <use x=\"77.001953\" xlink:href=\"#DejaVuSans-101\"/>\r\n       <use x=\"138.525391\" xlink:href=\"#DejaVuSans-99\"/>\r\n      </g>\r\n     </g>\r\n    </g>\r\n    <g id=\"xtick_3\">\r\n     <g id=\"line2d_3\">\r\n      <g>\r\n       <use style=\"stroke:#000000;stroke-width:0.8;\" x=\"136.859328\" xlink:href=\"#m08fdb958f5\" y=\"224.64\"/>\r\n      </g>\r\n     </g>\r\n     <g id=\"text_2\">\r\n      <!-- Jan -->\r\n      <g transform=\"translate(129.151516 239.238437)scale(0.1 -0.1)\">\r\n       <defs>\r\n        <path d=\"M 9.8125 72.90625 \r\nL 19.671875 72.90625 \r\nL 19.671875 5.078125 \r\nQ 19.671875 -8.109375 14.671875 -14.0625 \r\nQ 9.671875 -20.015625 -1.421875 -20.015625 \r\nL -5.171875 -20.015625 \r\nL -5.171875 -11.71875 \r\nL -2.09375 -11.71875 \r\nQ 4.4375 -11.71875 7.125 -8.046875 \r\nQ 9.8125 -4.390625 9.8125 5.078125 \r\nz\r\n\" id=\"DejaVuSans-74\"/>\r\n        <path d=\"M 34.28125 27.484375 \r\nQ 23.390625 27.484375 19.1875 25 \r\nQ 14.984375 22.515625 14.984375 16.5 \r\nQ 14.984375 11.71875 18.140625 8.90625 \r\nQ 21.296875 6.109375 26.703125 6.109375 \r\nQ 34.1875 6.109375 38.703125 11.40625 \r\nQ 43.21875 16.703125 43.21875 25.484375 \r\nL 43.21875 27.484375 \r\nz\r\nM 52.203125 31.203125 \r\nL 52.203125 0 \r\nL 43.21875 0 \r\nL 43.21875 8.296875 \r\nQ 40.140625 3.328125 35.546875 0.953125 \r\nQ 30.953125 -1.421875 24.3125 -1.421875 \r\nQ 15.921875 -1.421875 10.953125 3.296875 \r\nQ 6 8.015625 6 15.921875 \r\nQ 6 25.140625 12.171875 29.828125 \r\nQ 18.359375 34.515625 30.609375 34.515625 \r\nL 43.21875 34.515625 \r\nL 43.21875 35.40625 \r\nQ 43.21875 41.609375 39.140625 45 \r\nQ 35.0625 48.390625 27.6875 48.390625 \r\nQ 23 48.390625 18.546875 47.265625 \r\nQ 14.109375 46.140625 10.015625 43.890625 \r\nL 10.015625 52.203125 \r\nQ 14.9375 54.109375 19.578125 55.046875 \r\nQ 24.21875 56 28.609375 56 \r\nQ 40.484375 56 46.34375 49.84375 \r\nQ 52.203125 43.703125 52.203125 31.203125 \r\nz\r\n\" id=\"DejaVuSans-97\"/>\r\n        <path d=\"M 54.890625 33.015625 \r\nL 54.890625 0 \r\nL 45.90625 0 \r\nL 45.90625 32.71875 \r\nQ 45.90625 40.484375 42.875 44.328125 \r\nQ 39.84375 48.1875 33.796875 48.1875 \r\nQ 26.515625 48.1875 22.3125 43.546875 \r\nQ 18.109375 38.921875 18.109375 30.90625 \r\nL 18.109375 0 \r\nL 9.078125 0 \r\nL 9.078125 54.6875 \r\nL 18.109375 54.6875 \r\nL 18.109375 46.1875 \r\nQ 21.34375 51.125 25.703125 53.5625 \r\nQ 30.078125 56 35.796875 56 \r\nQ 45.21875 56 50.046875 50.171875 \r\nQ 54.890625 44.34375 54.890625 33.015625 \r\nz\r\n\" id=\"DejaVuSans-110\"/>\r\n       </defs>\r\n       <use xlink:href=\"#DejaVuSans-74\"/>\r\n       <use x=\"29.492188\" xlink:href=\"#DejaVuSans-97\"/>\r\n       <use x=\"90.771484\" xlink:href=\"#DejaVuSans-110\"/>\r\n      </g>\r\n      <!-- 2020 -->\r\n      <g transform=\"translate(124.134328 250.43625)scale(0.1 -0.1)\">\r\n       <defs>\r\n        <path d=\"M 19.1875 8.296875 \r\nL 53.609375 8.296875 \r\nL 53.609375 0 \r\nL 7.328125 0 \r\nL 7.328125 8.296875 \r\nQ 12.9375 14.109375 22.625 23.890625 \r\nQ 32.328125 33.6875 34.8125 36.53125 \r\nQ 39.546875 41.84375 41.421875 45.53125 \r\nQ 43.3125 49.21875 43.3125 52.78125 \r\nQ 43.3125 58.59375 39.234375 62.25 \r\nQ 35.15625 65.921875 28.609375 65.921875 \r\nQ 23.96875 65.921875 18.8125 64.3125 \r\nQ 13.671875 62.703125 7.8125 59.421875 \r\nL 7.8125 69.390625 \r\nQ 13.765625 71.78125 18.9375 73 \r\nQ 24.125 74.21875 28.421875 74.21875 \r\nQ 39.75 74.21875 46.484375 68.546875 \r\nQ 53.21875 62.890625 53.21875 53.421875 \r\nQ 53.21875 48.921875 51.53125 44.890625 \r\nQ 49.859375 40.875 45.40625 35.40625 \r\nQ 44.1875 33.984375 37.640625 27.21875 \r\nQ 31.109375 20.453125 19.1875 8.296875 \r\nz\r\n\" id=\"DejaVuSans-50\"/>\r\n        <path d=\"M 31.78125 66.40625 \r\nQ 24.171875 66.40625 20.328125 58.90625 \r\nQ 16.5 51.421875 16.5 36.375 \r\nQ 16.5 21.390625 20.328125 13.890625 \r\nQ 24.171875 6.390625 31.78125 6.390625 \r\nQ 39.453125 6.390625 43.28125 13.890625 \r\nQ 47.125 21.390625 47.125 36.375 \r\nQ 47.125 51.421875 43.28125 58.90625 \r\nQ 39.453125 66.40625 31.78125 66.40625 \r\nz\r\nM 31.78125 74.21875 \r\nQ 44.046875 74.21875 50.515625 64.515625 \r\nQ 56.984375 54.828125 56.984375 36.375 \r\nQ 56.984375 17.96875 50.515625 8.265625 \r\nQ 44.046875 -1.421875 31.78125 -1.421875 \r\nQ 19.53125 -1.421875 13.0625 8.265625 \r\nQ 6.59375 17.96875 6.59375 36.375 \r\nQ 6.59375 54.828125 13.0625 64.515625 \r\nQ 19.53125 74.21875 31.78125 74.21875 \r\nz\r\n\" id=\"DejaVuSans-48\"/>\r\n       </defs>\r\n       <use xlink:href=\"#DejaVuSans-50\"/>\r\n       <use x=\"63.623047\" xlink:href=\"#DejaVuSans-48\"/>\r\n       <use x=\"127.246094\" xlink:href=\"#DejaVuSans-50\"/>\r\n       <use x=\"190.869141\" xlink:href=\"#DejaVuSans-48\"/>\r\n      </g>\r\n     </g>\r\n    </g>\r\n    <g id=\"xtick_4\">\r\n     <g id=\"line2d_4\">\r\n      <g>\r\n       <use style=\"stroke:#000000;stroke-width:0.8;\" x=\"214.31306\" xlink:href=\"#m08fdb958f5\" y=\"224.64\"/>\r\n      </g>\r\n     </g>\r\n     <g id=\"text_3\">\r\n      <!-- Feb -->\r\n      <g transform=\"translate(205.461497 239.238437)scale(0.1 -0.1)\">\r\n       <defs>\r\n        <path d=\"M 9.8125 72.90625 \r\nL 51.703125 72.90625 \r\nL 51.703125 64.59375 \r\nL 19.671875 64.59375 \r\nL 19.671875 43.109375 \r\nL 48.578125 43.109375 \r\nL 48.578125 34.8125 \r\nL 19.671875 34.8125 \r\nL 19.671875 0 \r\nL 9.8125 0 \r\nz\r\n\" id=\"DejaVuSans-70\"/>\r\n        <path d=\"M 48.6875 27.296875 \r\nQ 48.6875 37.203125 44.609375 42.84375 \r\nQ 40.53125 48.484375 33.40625 48.484375 \r\nQ 26.265625 48.484375 22.1875 42.84375 \r\nQ 18.109375 37.203125 18.109375 27.296875 \r\nQ 18.109375 17.390625 22.1875 11.75 \r\nQ 26.265625 6.109375 33.40625 6.109375 \r\nQ 40.53125 6.109375 44.609375 11.75 \r\nQ 48.6875 17.390625 48.6875 27.296875 \r\nz\r\nM 18.109375 46.390625 \r\nQ 20.953125 51.265625 25.265625 53.625 \r\nQ 29.59375 56 35.59375 56 \r\nQ 45.5625 56 51.78125 48.09375 \r\nQ 58.015625 40.1875 58.015625 27.296875 \r\nQ 58.015625 14.40625 51.78125 6.484375 \r\nQ 45.5625 -1.421875 35.59375 -1.421875 \r\nQ 29.59375 -1.421875 25.265625 0.953125 \r\nQ 20.953125 3.328125 18.109375 8.203125 \r\nL 18.109375 0 \r\nL 9.078125 0 \r\nL 9.078125 75.984375 \r\nL 18.109375 75.984375 \r\nz\r\n\" id=\"DejaVuSans-98\"/>\r\n       </defs>\r\n       <use xlink:href=\"#DejaVuSans-70\"/>\r\n       <use x=\"52.019531\" xlink:href=\"#DejaVuSans-101\"/>\r\n       <use x=\"113.542969\" xlink:href=\"#DejaVuSans-98\"/>\r\n      </g>\r\n     </g>\r\n    </g>\r\n    <g id=\"xtick_5\">\r\n     <g id=\"line2d_5\">\r\n      <g>\r\n       <use style=\"stroke:#000000;stroke-width:0.8;\" x=\"286.769776\" xlink:href=\"#m08fdb958f5\" y=\"224.64\"/>\r\n      </g>\r\n     </g>\r\n     <g id=\"text_4\">\r\n      <!-- Mar -->\r\n      <g transform=\"translate(277.336182 239.238437)scale(0.1 -0.1)\">\r\n       <defs>\r\n        <path d=\"M 9.8125 72.90625 \r\nL 24.515625 72.90625 \r\nL 43.109375 23.296875 \r\nL 61.8125 72.90625 \r\nL 76.515625 72.90625 \r\nL 76.515625 0 \r\nL 66.890625 0 \r\nL 66.890625 64.015625 \r\nL 48.09375 14.015625 \r\nL 38.1875 14.015625 \r\nL 19.390625 64.015625 \r\nL 19.390625 0 \r\nL 9.8125 0 \r\nz\r\n\" id=\"DejaVuSans-77\"/>\r\n        <path d=\"M 41.109375 46.296875 \r\nQ 39.59375 47.171875 37.8125 47.578125 \r\nQ 36.03125 48 33.890625 48 \r\nQ 26.265625 48 22.1875 43.046875 \r\nQ 18.109375 38.09375 18.109375 28.8125 \r\nL 18.109375 0 \r\nL 9.078125 0 \r\nL 9.078125 54.6875 \r\nL 18.109375 54.6875 \r\nL 18.109375 46.1875 \r\nQ 20.953125 51.171875 25.484375 53.578125 \r\nQ 30.03125 56 36.53125 56 \r\nQ 37.453125 56 38.578125 55.875 \r\nQ 39.703125 55.765625 41.0625 55.515625 \r\nz\r\n\" id=\"DejaVuSans-114\"/>\r\n       </defs>\r\n       <use xlink:href=\"#DejaVuSans-77\"/>\r\n       <use x=\"86.279297\" xlink:href=\"#DejaVuSans-97\"/>\r\n       <use x=\"147.558594\" xlink:href=\"#DejaVuSans-114\"/>\r\n      </g>\r\n     </g>\r\n    </g>\r\n    <g id=\"xtick_6\">\r\n     <g id=\"line2d_6\">\r\n      <g>\r\n       <use style=\"stroke:#000000;stroke-width:0.8;\" x=\"361.725\" xlink:href=\"#m08fdb958f5\" y=\"224.64\"/>\r\n      </g>\r\n     </g>\r\n    </g>\r\n    <g id=\"xtick_7\">\r\n     <g id=\"line2d_7\">\r\n      <defs>\r\n       <path d=\"M 0 0 \r\nL 0 2 \r\n\" id=\"m175212a861\" style=\"stroke:#000000;stroke-width:0.6;\"/>\r\n      </defs>\r\n      <g>\r\n       <use style=\"stroke:#000000;stroke-width:0.6;\" x=\"44.414552\" xlink:href=\"#m175212a861\" y=\"224.64\"/>\r\n      </g>\r\n     </g>\r\n    </g>\r\n    <g id=\"xtick_8\">\r\n     <g id=\"line2d_8\">\r\n      <g>\r\n       <use style=\"stroke:#000000;stroke-width:0.6;\" x=\"61.904104\" xlink:href=\"#m175212a861\" y=\"224.64\"/>\r\n      </g>\r\n     </g>\r\n    </g>\r\n    <g id=\"xtick_9\">\r\n     <g id=\"line2d_9\">\r\n      <g>\r\n       <use style=\"stroke:#000000;stroke-width:0.6;\" x=\"79.393657\" xlink:href=\"#m175212a861\" y=\"224.64\"/>\r\n      </g>\r\n     </g>\r\n    </g>\r\n    <g id=\"xtick_10\">\r\n     <g id=\"line2d_10\">\r\n      <g>\r\n       <use style=\"stroke:#000000;stroke-width:0.6;\" x=\"96.883209\" xlink:href=\"#m175212a861\" y=\"224.64\"/>\r\n      </g>\r\n     </g>\r\n    </g>\r\n    <g id=\"xtick_11\">\r\n     <g id=\"line2d_11\">\r\n      <g>\r\n       <use style=\"stroke:#000000;stroke-width:0.6;\" x=\"114.372761\" xlink:href=\"#m175212a861\" y=\"224.64\"/>\r\n      </g>\r\n     </g>\r\n    </g>\r\n    <g id=\"xtick_12\">\r\n     <g id=\"line2d_12\">\r\n      <g>\r\n       <use style=\"stroke:#000000;stroke-width:0.6;\" x=\"131.862313\" xlink:href=\"#m175212a861\" y=\"224.64\"/>\r\n      </g>\r\n     </g>\r\n    </g>\r\n    <g id=\"xtick_13\">\r\n     <g id=\"line2d_13\">\r\n      <g>\r\n       <use style=\"stroke:#000000;stroke-width:0.6;\" x=\"149.351866\" xlink:href=\"#m175212a861\" y=\"224.64\"/>\r\n      </g>\r\n     </g>\r\n    </g>\r\n    <g id=\"xtick_14\">\r\n     <g id=\"line2d_14\">\r\n      <g>\r\n       <use style=\"stroke:#000000;stroke-width:0.6;\" x=\"166.841418\" xlink:href=\"#m175212a861\" y=\"224.64\"/>\r\n      </g>\r\n     </g>\r\n    </g>\r\n    <g id=\"xtick_15\">\r\n     <g id=\"line2d_15\">\r\n      <g>\r\n       <use style=\"stroke:#000000;stroke-width:0.6;\" x=\"184.33097\" xlink:href=\"#m175212a861\" y=\"224.64\"/>\r\n      </g>\r\n     </g>\r\n    </g>\r\n    <g id=\"xtick_16\">\r\n     <g id=\"line2d_16\">\r\n      <g>\r\n       <use style=\"stroke:#000000;stroke-width:0.6;\" x=\"201.820522\" xlink:href=\"#m175212a861\" y=\"224.64\"/>\r\n      </g>\r\n     </g>\r\n    </g>\r\n    <g id=\"xtick_17\">\r\n     <g id=\"line2d_17\">\r\n      <g>\r\n       <use style=\"stroke:#000000;stroke-width:0.6;\" x=\"219.310075\" xlink:href=\"#m175212a861\" y=\"224.64\"/>\r\n      </g>\r\n     </g>\r\n    </g>\r\n    <g id=\"xtick_18\">\r\n     <g id=\"line2d_18\">\r\n      <g>\r\n       <use style=\"stroke:#000000;stroke-width:0.6;\" x=\"236.799627\" xlink:href=\"#m175212a861\" y=\"224.64\"/>\r\n      </g>\r\n     </g>\r\n    </g>\r\n    <g id=\"xtick_19\">\r\n     <g id=\"line2d_19\">\r\n      <g>\r\n       <use style=\"stroke:#000000;stroke-width:0.6;\" x=\"254.289179\" xlink:href=\"#m175212a861\" y=\"224.64\"/>\r\n      </g>\r\n     </g>\r\n    </g>\r\n    <g id=\"xtick_20\">\r\n     <g id=\"line2d_20\">\r\n      <g>\r\n       <use style=\"stroke:#000000;stroke-width:0.6;\" x=\"271.778731\" xlink:href=\"#m175212a861\" y=\"224.64\"/>\r\n      </g>\r\n     </g>\r\n    </g>\r\n    <g id=\"xtick_21\">\r\n     <g id=\"line2d_21\">\r\n      <g>\r\n       <use style=\"stroke:#000000;stroke-width:0.6;\" x=\"289.268284\" xlink:href=\"#m175212a861\" y=\"224.64\"/>\r\n      </g>\r\n     </g>\r\n    </g>\r\n    <g id=\"xtick_22\">\r\n     <g id=\"line2d_22\">\r\n      <g>\r\n       <use style=\"stroke:#000000;stroke-width:0.6;\" x=\"306.757836\" xlink:href=\"#m175212a861\" y=\"224.64\"/>\r\n      </g>\r\n     </g>\r\n    </g>\r\n    <g id=\"xtick_23\">\r\n     <g id=\"line2d_23\">\r\n      <g>\r\n       <use style=\"stroke:#000000;stroke-width:0.6;\" x=\"324.247388\" xlink:href=\"#m175212a861\" y=\"224.64\"/>\r\n      </g>\r\n     </g>\r\n    </g>\r\n    <g id=\"xtick_24\">\r\n     <g id=\"line2d_24\">\r\n      <g>\r\n       <use style=\"stroke:#000000;stroke-width:0.6;\" x=\"341.73694\" xlink:href=\"#m175212a861\" y=\"224.64\"/>\r\n      </g>\r\n     </g>\r\n    </g>\r\n    <g id=\"xtick_25\">\r\n     <g id=\"line2d_25\">\r\n      <g>\r\n       <use style=\"stroke:#000000;stroke-width:0.6;\" x=\"359.226493\" xlink:href=\"#m175212a861\" y=\"224.64\"/>\r\n      </g>\r\n     </g>\r\n    </g>\r\n    <g id=\"text_5\">\r\n     <!-- Date -->\r\n     <g transform=\"translate(182.374219 264.114375)scale(0.1 -0.1)\">\r\n      <defs>\r\n       <path d=\"M 18.3125 70.21875 \r\nL 18.3125 54.6875 \r\nL 36.8125 54.6875 \r\nL 36.8125 47.703125 \r\nL 18.3125 47.703125 \r\nL 18.3125 18.015625 \r\nQ 18.3125 11.328125 20.140625 9.421875 \r\nQ 21.96875 7.515625 27.59375 7.515625 \r\nL 36.8125 7.515625 \r\nL 36.8125 0 \r\nL 27.59375 0 \r\nQ 17.1875 0 13.234375 3.875 \r\nQ 9.28125 7.765625 9.28125 18.015625 \r\nL 9.28125 47.703125 \r\nL 2.6875 47.703125 \r\nL 2.6875 54.6875 \r\nL 9.28125 54.6875 \r\nL 9.28125 70.21875 \r\nz\r\n\" id=\"DejaVuSans-116\"/>\r\n      </defs>\r\n      <use xlink:href=\"#DejaVuSans-68\"/>\r\n      <use x=\"77.001953\" xlink:href=\"#DejaVuSans-97\"/>\r\n      <use x=\"138.28125\" xlink:href=\"#DejaVuSans-116\"/>\r\n      <use x=\"177.490234\" xlink:href=\"#DejaVuSans-101\"/>\r\n     </g>\r\n    </g>\r\n   </g>\r\n   <g id=\"matplotlib.axis_2\">\r\n    <g id=\"ytick_1\">\r\n     <g id=\"line2d_26\">\r\n      <defs>\r\n       <path d=\"M 0 0 \r\nL -3.5 0 \r\n\" id=\"m4ceed0a9af\" style=\"stroke:#000000;stroke-width:0.8;\"/>\r\n      </defs>\r\n      <g>\r\n       <use style=\"stroke:#000000;stroke-width:0.8;\" x=\"26.925\" xlink:href=\"#m4ceed0a9af\" y=\"221.958447\"/>\r\n      </g>\r\n     </g>\r\n     <g id=\"text_6\">\r\n      <!-- 15 -->\r\n      <g transform=\"translate(7.2 225.757666)scale(0.1 -0.1)\">\r\n       <defs>\r\n        <path d=\"M 12.40625 8.296875 \r\nL 28.515625 8.296875 \r\nL 28.515625 63.921875 \r\nL 10.984375 60.40625 \r\nL 10.984375 69.390625 \r\nL 28.421875 72.90625 \r\nL 38.28125 72.90625 \r\nL 38.28125 8.296875 \r\nL 54.390625 8.296875 \r\nL 54.390625 0 \r\nL 12.40625 0 \r\nz\r\n\" id=\"DejaVuSans-49\"/>\r\n        <path d=\"M 10.796875 72.90625 \r\nL 49.515625 72.90625 \r\nL 49.515625 64.59375 \r\nL 19.828125 64.59375 \r\nL 19.828125 46.734375 \r\nQ 21.96875 47.46875 24.109375 47.828125 \r\nQ 26.265625 48.1875 28.421875 48.1875 \r\nQ 40.625 48.1875 47.75 41.5 \r\nQ 54.890625 34.8125 54.890625 23.390625 \r\nQ 54.890625 11.625 47.5625 5.09375 \r\nQ 40.234375 -1.421875 26.90625 -1.421875 \r\nQ 22.3125 -1.421875 17.546875 -0.640625 \r\nQ 12.796875 0.140625 7.71875 1.703125 \r\nL 7.71875 11.625 \r\nQ 12.109375 9.234375 16.796875 8.0625 \r\nQ 21.484375 6.890625 26.703125 6.890625 \r\nQ 35.15625 6.890625 40.078125 11.328125 \r\nQ 45.015625 15.765625 45.015625 23.390625 \r\nQ 45.015625 31 40.078125 35.4375 \r\nQ 35.15625 39.890625 26.703125 39.890625 \r\nQ 22.75 39.890625 18.8125 39.015625 \r\nQ 14.890625 38.140625 10.796875 36.28125 \r\nz\r\n\" id=\"DejaVuSans-53\"/>\r\n       </defs>\r\n       <use xlink:href=\"#DejaVuSans-49\"/>\r\n       <use x=\"63.623047\" xlink:href=\"#DejaVuSans-53\"/>\r\n      </g>\r\n     </g>\r\n    </g>\r\n    <g id=\"ytick_2\">\r\n     <g id=\"line2d_27\">\r\n      <g>\r\n       <use style=\"stroke:#000000;stroke-width:0.8;\" x=\"26.925\" xlink:href=\"#m4ceed0a9af\" y=\"186.996876\"/>\r\n      </g>\r\n     </g>\r\n     <g id=\"text_7\">\r\n      <!-- 20 -->\r\n      <g transform=\"translate(7.2 190.796094)scale(0.1 -0.1)\">\r\n       <use xlink:href=\"#DejaVuSans-50\"/>\r\n       <use x=\"63.623047\" xlink:href=\"#DejaVuSans-48\"/>\r\n      </g>\r\n     </g>\r\n    </g>\r\n    <g id=\"ytick_3\">\r\n     <g id=\"line2d_28\">\r\n      <g>\r\n       <use style=\"stroke:#000000;stroke-width:0.8;\" x=\"26.925\" xlink:href=\"#m4ceed0a9af\" y=\"152.035304\"/>\r\n      </g>\r\n     </g>\r\n     <g id=\"text_8\">\r\n      <!-- 25 -->\r\n      <g transform=\"translate(7.2 155.834522)scale(0.1 -0.1)\">\r\n       <use xlink:href=\"#DejaVuSans-50\"/>\r\n       <use x=\"63.623047\" xlink:href=\"#DejaVuSans-53\"/>\r\n      </g>\r\n     </g>\r\n    </g>\r\n    <g id=\"ytick_4\">\r\n     <g id=\"line2d_29\">\r\n      <g>\r\n       <use style=\"stroke:#000000;stroke-width:0.8;\" x=\"26.925\" xlink:href=\"#m4ceed0a9af\" y=\"117.073732\"/>\r\n      </g>\r\n     </g>\r\n     <g id=\"text_9\">\r\n      <!-- 30 -->\r\n      <g transform=\"translate(7.2 120.872951)scale(0.1 -0.1)\">\r\n       <defs>\r\n        <path d=\"M 40.578125 39.3125 \r\nQ 47.65625 37.796875 51.625 33 \r\nQ 55.609375 28.21875 55.609375 21.1875 \r\nQ 55.609375 10.40625 48.1875 4.484375 \r\nQ 40.765625 -1.421875 27.09375 -1.421875 \r\nQ 22.515625 -1.421875 17.65625 -0.515625 \r\nQ 12.796875 0.390625 7.625 2.203125 \r\nL 7.625 11.71875 \r\nQ 11.71875 9.328125 16.59375 8.109375 \r\nQ 21.484375 6.890625 26.8125 6.890625 \r\nQ 36.078125 6.890625 40.9375 10.546875 \r\nQ 45.796875 14.203125 45.796875 21.1875 \r\nQ 45.796875 27.640625 41.28125 31.265625 \r\nQ 36.765625 34.90625 28.71875 34.90625 \r\nL 20.21875 34.90625 \r\nL 20.21875 43.015625 \r\nL 29.109375 43.015625 \r\nQ 36.375 43.015625 40.234375 45.921875 \r\nQ 44.09375 48.828125 44.09375 54.296875 \r\nQ 44.09375 59.90625 40.109375 62.90625 \r\nQ 36.140625 65.921875 28.71875 65.921875 \r\nQ 24.65625 65.921875 20.015625 65.03125 \r\nQ 15.375 64.15625 9.8125 62.3125 \r\nL 9.8125 71.09375 \r\nQ 15.4375 72.65625 20.34375 73.4375 \r\nQ 25.25 74.21875 29.59375 74.21875 \r\nQ 40.828125 74.21875 47.359375 69.109375 \r\nQ 53.90625 64.015625 53.90625 55.328125 \r\nQ 53.90625 49.265625 50.4375 45.09375 \r\nQ 46.96875 40.921875 40.578125 39.3125 \r\nz\r\n\" id=\"DejaVuSans-51\"/>\r\n       </defs>\r\n       <use xlink:href=\"#DejaVuSans-51\"/>\r\n       <use x=\"63.623047\" xlink:href=\"#DejaVuSans-48\"/>\r\n      </g>\r\n     </g>\r\n    </g>\r\n    <g id=\"ytick_5\">\r\n     <g id=\"line2d_30\">\r\n      <g>\r\n       <use style=\"stroke:#000000;stroke-width:0.8;\" x=\"26.925\" xlink:href=\"#m4ceed0a9af\" y=\"82.11216\"/>\r\n      </g>\r\n     </g>\r\n     <g id=\"text_10\">\r\n      <!-- 35 -->\r\n      <g transform=\"translate(7.2 85.911379)scale(0.1 -0.1)\">\r\n       <use xlink:href=\"#DejaVuSans-51\"/>\r\n       <use x=\"63.623047\" xlink:href=\"#DejaVuSans-53\"/>\r\n      </g>\r\n     </g>\r\n    </g>\r\n    <g id=\"ytick_6\">\r\n     <g id=\"line2d_31\">\r\n      <g>\r\n       <use style=\"stroke:#000000;stroke-width:0.8;\" x=\"26.925\" xlink:href=\"#m4ceed0a9af\" y=\"47.150588\"/>\r\n      </g>\r\n     </g>\r\n     <g id=\"text_11\">\r\n      <!-- 40 -->\r\n      <g transform=\"translate(7.2 50.949807)scale(0.1 -0.1)\">\r\n       <defs>\r\n        <path d=\"M 37.796875 64.3125 \r\nL 12.890625 25.390625 \r\nL 37.796875 25.390625 \r\nz\r\nM 35.203125 72.90625 \r\nL 47.609375 72.90625 \r\nL 47.609375 25.390625 \r\nL 58.015625 25.390625 \r\nL 58.015625 17.1875 \r\nL 47.609375 17.1875 \r\nL 47.609375 0 \r\nL 37.796875 0 \r\nL 37.796875 17.1875 \r\nL 4.890625 17.1875 \r\nL 4.890625 26.703125 \r\nz\r\n\" id=\"DejaVuSans-52\"/>\r\n       </defs>\r\n       <use xlink:href=\"#DejaVuSans-52\"/>\r\n       <use x=\"63.623047\" xlink:href=\"#DejaVuSans-48\"/>\r\n      </g>\r\n     </g>\r\n    </g>\r\n    <g id=\"ytick_7\">\r\n     <g id=\"line2d_32\">\r\n      <g>\r\n       <use style=\"stroke:#000000;stroke-width:0.8;\" x=\"26.925\" xlink:href=\"#m4ceed0a9af\" y=\"12.189016\"/>\r\n      </g>\r\n     </g>\r\n     <g id=\"text_12\">\r\n      <!-- 45 -->\r\n      <g transform=\"translate(7.2 15.988235)scale(0.1 -0.1)\">\r\n       <use xlink:href=\"#DejaVuSans-52\"/>\r\n       <use x=\"63.623047\" xlink:href=\"#DejaVuSans-53\"/>\r\n      </g>\r\n     </g>\r\n    </g>\r\n   </g>\r\n   <g id=\"line2d_33\">\r\n    <path clip-path=\"url(#pc2a5511c7b)\" d=\"M 26.925 140.847601 \r\nL 29.423507 197.275578 \r\nL 31.922015 85.118855 \r\nL 34.420522 37.85081 \r\nL 36.91903 189.09457 \r\nL 39.417537 164.271854 \r\nL 41.916045 159.72685 \r\nL 44.414552 128.261435 \r\nL 46.91306 208.88282 \r\nL 49.411567 153.223997 \r\nL 51.910075 177.417405 \r\nL 54.408582 184.409719 \r\nL 56.90709 200.981504 \r\nL 59.405597 201.191274 \r\nL 61.904104 214.756364 \r\nL 64.402612 175.809173 \r\nL 69.399627 162.733545 \r\nL 71.898134 182.591718 \r\nL 74.396642 180.703793 \r\nL 76.895149 125.953971 \r\nL 79.393657 53.933133 \r\nL 81.892164 202.869429 \r\nL 84.390672 196.086884 \r\nL 86.889179 194.898191 \r\nL 89.387687 180.214331 \r\nL 91.886194 184.409719 \r\nL 94.384701 172.103246 \r\nL 96.883209 173.222016 \r\nL 99.381716 135.743211 \r\nL 101.880224 42.74543 \r\nL 104.378731 159.72685 \r\nL 106.877239 17.083636 \r\nL 109.375746 182.591718 \r\nL 111.874254 180.703793 \r\nL 114.372761 182.102256 \r\nL 116.871269 145.742221 \r\nL 119.369776 129.450128 \r\nL 121.868284 179.09556 \r\nL 124.366791 144.553527 \r\nL 126.865299 122.178121 \r\nL 129.363806 89.314244 \r\nL 131.862313 32.676497 \r\nL 134.360821 175.809173 \r\nL 136.859328 157.419386 \r\nL 139.357836 153.643536 \r\nL 141.856343 88.894705 \r\nL 144.354851 136.861982 \r\nL 146.853358 209.582051 \r\nL 149.351866 201.680736 \r\nL 151.850373 185.598413 \r\nL 154.348881 149.72784 \r\nL 156.847388 107.284492 \r\nL 159.345896 94.488556 \r\nL 161.844403 178.606098 \r\nL 164.34291 178.606098 \r\nL 166.841418 96.586251 \r\nL 169.339925 97.495252 \r\nL 171.838433 61.344986 \r\nL 174.33694 185.598413 \r\nL 176.835448 158.538156 \r\nL 179.333955 129.170436 \r\nL 181.832463 142.735526 \r\nL 184.33097 172.103246 \r\nL 186.829478 164.831239 \r\nL 189.327985 102.180102 \r\nL 191.826493 170.425091 \r\nL 194.325 161.335082 \r\nL 196.823507 139.658907 \r\nL 199.322015 163.223007 \r\nL 201.820522 167.208626 \r\nL 204.31903 156.720154 \r\nL 206.817537 120.779658 \r\nL 209.316045 48.75882 \r\nL 211.814552 22.188026 \r\nL 214.31306 123.017199 \r\nL 216.811567 155.74123 \r\nL 219.310075 201.470966 \r\nL 221.808582 190.003571 \r\nL 224.30709 182.312025 \r\nL 226.805597 142.455833 \r\nL 229.304104 162.034313 \r\nL 231.802612 124.275816 \r\nL 234.301119 138.050675 \r\nL 236.799627 138.540137 \r\nL 239.298134 178.606098 \r\nL 241.796642 178.606098 \r\nL 244.295149 111.68965 \r\nL 246.793657 88.055627 \r\nL 249.292164 193.639574 \r\nL 251.790672 152.245073 \r\nL 254.289179 140.148369 \r\nL 256.787687 173.921248 \r\nL 259.286194 189.793801 \r\nL 261.784701 196.576346 \r\nL 264.283209 189.09457 \r\nL 266.781716 175.109941 \r\nL 269.280224 96.79602 \r\nL 271.778731 162.034313 \r\nL 274.277239 105.536413 \r\nL 276.775746 192.590727 \r\nL 279.274254 190.003571 \r\nL 281.772761 188.8848 \r\nL 284.271269 173.711478 \r\nL 286.769776 100.082408 \r\nL 289.268284 197.974809 \r\nL 291.766791 187.346491 \r\nL 294.265299 172.522785 \r\nL 296.763806 185.108951 \r\nL 299.262313 194.198959 \r\nL 301.760821 187.905876 \r\nL 304.259328 173.222016 \r\nL 306.757836 181.403024 \r\nL 309.256343 174.41071 \r\nL 311.754851 178.606098 \r\nL 314.253358 178.606098 \r\nL 316.751866 138.749906 \r\nL 319.250373 202.170198 \r\nL 321.748881 193.080189 \r\nL 324.247388 150.427071 \r\nL 326.745896 128.750897 \r\nL 329.244403 126.163741 \r\nL 331.74291 111.47988 \r\nL 334.241418 170.215321 \r\nL 336.739925 197.695117 \r\nL 339.238433 196.786116 \r\nL 341.73694 207.484357 \r\nL 344.235448 200.771735 \r\nL 346.733955 204.687431 \r\nL 349.232463 179.30533 \r\nL 351.73097 133.156055 \r\nL 354.229478 131.26813 \r\nL 356.727985 138.260444 \r\nL 359.226493 174.20094 \r\nL 361.725 180.214331 \r\nL 361.725 180.214331 \r\n\" style=\"fill:none;stroke:#1f77b4;stroke-linecap:square;stroke-width:1.5;\"/>\r\n   </g>\r\n   <g id=\"line2d_34\">\r\n    <path clip-path=\"url(#pc2a5511c7b)\" d=\"M 26.925 178.906831 \r\nL 29.423507 137.271235 \r\nL 31.922015 175.381797 \r\nL 34.420522 109.989868 \r\nL 36.91903 142.166193 \r\nL 39.417537 181.389906 \r\nL 41.916045 153.626722 \r\nL 44.414552 165.96297 \r\nL 46.91306 146.281034 \r\nL 49.411567 208.521369 \r\nL 51.910075 159.730813 \r\nL 54.408582 189.399083 \r\nL 56.90709 187.462128 \r\nL 59.405597 188.251302 \r\nL 61.904104 181.562968 \r\nL 64.402612 179.789447 \r\nL 66.901119 154.320433 \r\nL 69.399627 149.82459 \r\nL 71.898134 148.890314 \r\nL 74.396642 155.360341 \r\nL 76.895149 152.553136 \r\nL 79.393657 133.781124 \r\nL 81.892164 121.980417 \r\nL 84.390672 174.129629 \r\nL 86.889179 158.582125 \r\nL 89.387687 156.180887 \r\nL 91.886194 142.033062 \r\nL 94.384701 158.846162 \r\nL 96.883209 154.064318 \r\nL 99.381716 152.947507 \r\nL 101.880224 142.147334 \r\nL 104.378731 112.683578 \r\nL 106.877239 172.322825 \r\nL 109.375746 37.834415 \r\nL 111.874254 192.282401 \r\nL 114.372761 147.802496 \r\nL 116.871269 163.072975 \r\nL 119.369776 145.750779 \r\nL 121.868284 155.558339 \r\nL 124.366791 170.949972 \r\nL 126.865299 160.456607 \r\nL 129.363806 164.593097 \r\nL 131.862313 154.230996 \r\nL 134.360821 138.583585 \r\nL 136.859328 175.705605 \r\nL 139.357836 169.438541 \r\nL 141.856343 166.264807 \r\nL 144.354851 161.339794 \r\nL 146.853358 169.837385 \r\nL 149.351866 182.956672 \r\nL 151.850373 185.88856 \r\nL 154.348881 178.6079 \r\nL 156.847388 168.621779 \r\nL 159.345896 151.945523 \r\nL 161.844403 146.854822 \r\nL 164.34291 156.220423 \r\nL 166.841418 157.007627 \r\nL 169.339925 122.230353 \r\nL 171.838433 137.287547 \r\nL 174.33694 116.126642 \r\nL 176.835448 162.820784 \r\nL 179.333955 138.079013 \r\nL 181.832463 129.204439 \r\nL 184.33097 144.353282 \r\nL 186.829478 151.721446 \r\nL 189.327985 137.983455 \r\nL 191.826493 122.266081 \r\nL 194.325 145.72593 \r\nL 196.823507 137.904824 \r\nL 199.322015 135.291794 \r\nL 201.820522 145.696923 \r\nL 204.31903 147.440221 \r\nL 206.817537 147.69001 \r\nL 209.316045 143.991666 \r\nL 211.814552 101.909499 \r\nL 214.31306 76.738917 \r\nL 216.811567 148.780802 \r\nL 219.310075 140.725984 \r\nL 221.808582 140.179065 \r\nL 224.30709 125.550799 \r\nL 226.805597 130.766051 \r\nL 229.304104 120.355242 \r\nL 231.802612 149.303048 \r\nL 234.301119 134.236775 \r\nL 236.799627 142.667939 \r\nL 239.298134 145.583135 \r\nL 241.796642 149.083188 \r\nL 244.295149 147.073232 \r\nL 246.793657 126.808546 \r\nL 249.292164 132.073613 \r\nL 251.790672 166.954242 \r\nL 254.289179 135.830821 \r\nL 256.787687 135.375214 \r\nL 259.286194 146.762646 \r\nL 261.784701 140.954175 \r\nL 264.283209 141.259534 \r\nL 266.781716 137.643247 \r\nL 269.280224 134.928671 \r\nL 271.778731 115.403997 \r\nL 274.277239 146.148913 \r\nL 276.775746 123.099308 \r\nL 279.274254 160.550437 \r\nL 281.772761 159.795402 \r\nL 284.271269 168.782153 \r\nL 286.769776 166.012433 \r\nL 289.268284 109.19152 \r\nL 291.766791 158.637709 \r\nL 294.265299 153.820503 \r\nL 296.763806 142.679199 \r\nL 299.262313 150.790421 \r\nL 301.760821 147.585345 \r\nL 304.259328 146.719772 \r\nL 306.757836 143.151645 \r\nL 309.256343 150.853648 \r\nL 311.754851 144.629106 \r\nL 314.253358 147.830463 \r\nL 316.751866 149.582884 \r\nL 319.250373 140.408018 \r\nL 321.748881 168.261621 \r\nL 324.247388 163.097384 \r\nL 326.745896 132.146592 \r\nL 329.244403 133.558995 \r\nL 331.74291 140.773119 \r\nL 334.241418 125.579426 \r\nL 336.739925 156.248053 \r\nL 339.238433 154.605585 \r\nL 341.73694 155.228513 \r\nL 344.235448 163.25655 \r\nL 346.733955 162.251411 \r\nL 349.232463 177.703232 \r\nL 351.73097 171.508195 \r\nL 354.229478 161.022693 \r\nL 356.727985 168.327249 \r\nL 361.725 180.607702 \r\nL 361.725 180.607702 \r\n\" style=\"fill:none;stroke:#ff7f0e;stroke-linecap:square;stroke-width:1.5;\"/>\r\n   </g>\r\n   <g id=\"patch_3\">\r\n    <path d=\"M 26.925 224.64 \r\nL 26.925 7.2 \r\n\" style=\"fill:none;stroke:#000000;stroke-linecap:square;stroke-linejoin:miter;stroke-width:0.8;\"/>\r\n   </g>\r\n   <g id=\"patch_4\">\r\n    <path d=\"M 361.725 224.64 \r\nL 361.725 7.2 \r\n\" style=\"fill:none;stroke:#000000;stroke-linecap:square;stroke-linejoin:miter;stroke-width:0.8;\"/>\r\n   </g>\r\n   <g id=\"patch_5\">\r\n    <path d=\"M 26.925 224.64 \r\nL 361.725 224.64 \r\n\" style=\"fill:none;stroke:#000000;stroke-linecap:square;stroke-linejoin:miter;stroke-width:0.8;\"/>\r\n   </g>\r\n   <g id=\"patch_6\">\r\n    <path d=\"M 26.925 7.2 \r\nL 361.725 7.2 \r\n\" style=\"fill:none;stroke:#000000;stroke-linecap:square;stroke-linejoin:miter;stroke-width:0.8;\"/>\r\n   </g>\r\n   <g id=\"legend_1\">\r\n    <g id=\"patch_7\">\r\n     <path d=\"M 246.33125 44.834375 \r\nL 354.725 44.834375 \r\nQ 356.725 44.834375 356.725 42.834375 \r\nL 356.725 14.2 \r\nQ 356.725 12.2 354.725 12.2 \r\nL 246.33125 12.2 \r\nQ 244.33125 12.2 244.33125 14.2 \r\nL 244.33125 42.834375 \r\nQ 244.33125 44.834375 246.33125 44.834375 \r\nz\r\n\" style=\"fill:#ffffff;opacity:0.8;stroke:#cccccc;stroke-linejoin:miter;\"/>\r\n    </g>\r\n    <g id=\"line2d_35\">\r\n     <path d=\"M 248.33125 20.298437 \r\nL 268.33125 20.298437 \r\n\" style=\"fill:none;stroke:#1f77b4;stroke-linecap:square;stroke-width:1.5;\"/>\r\n    </g>\r\n    <g id=\"line2d_36\"/>\r\n    <g id=\"text_13\">\r\n     <!-- TOTALDEMAND -->\r\n     <g transform=\"translate(276.33125 23.798437)scale(0.1 -0.1)\">\r\n      <defs>\r\n       <path d=\"M -0.296875 72.90625 \r\nL 61.375 72.90625 \r\nL 61.375 64.59375 \r\nL 35.5 64.59375 \r\nL 35.5 0 \r\nL 25.59375 0 \r\nL 25.59375 64.59375 \r\nL -0.296875 64.59375 \r\nz\r\n\" id=\"DejaVuSans-84\"/>\r\n       <path d=\"M 39.40625 66.21875 \r\nQ 28.65625 66.21875 22.328125 58.203125 \r\nQ 16.015625 50.203125 16.015625 36.375 \r\nQ 16.015625 22.609375 22.328125 14.59375 \r\nQ 28.65625 6.59375 39.40625 6.59375 \r\nQ 50.140625 6.59375 56.421875 14.59375 \r\nQ 62.703125 22.609375 62.703125 36.375 \r\nQ 62.703125 50.203125 56.421875 58.203125 \r\nQ 50.140625 66.21875 39.40625 66.21875 \r\nz\r\nM 39.40625 74.21875 \r\nQ 54.734375 74.21875 63.90625 63.9375 \r\nQ 73.09375 53.65625 73.09375 36.375 \r\nQ 73.09375 19.140625 63.90625 8.859375 \r\nQ 54.734375 -1.421875 39.40625 -1.421875 \r\nQ 24.03125 -1.421875 14.8125 8.828125 \r\nQ 5.609375 19.09375 5.609375 36.375 \r\nQ 5.609375 53.65625 14.8125 63.9375 \r\nQ 24.03125 74.21875 39.40625 74.21875 \r\nz\r\n\" id=\"DejaVuSans-79\"/>\r\n       <path d=\"M 34.1875 63.1875 \r\nL 20.796875 26.90625 \r\nL 47.609375 26.90625 \r\nz\r\nM 28.609375 72.90625 \r\nL 39.796875 72.90625 \r\nL 67.578125 0 \r\nL 57.328125 0 \r\nL 50.6875 18.703125 \r\nL 17.828125 18.703125 \r\nL 11.1875 0 \r\nL 0.78125 0 \r\nz\r\n\" id=\"DejaVuSans-65\"/>\r\n       <path d=\"M 9.8125 72.90625 \r\nL 19.671875 72.90625 \r\nL 19.671875 8.296875 \r\nL 55.171875 8.296875 \r\nL 55.171875 0 \r\nL 9.8125 0 \r\nz\r\n\" id=\"DejaVuSans-76\"/>\r\n       <path d=\"M 9.8125 72.90625 \r\nL 55.90625 72.90625 \r\nL 55.90625 64.59375 \r\nL 19.671875 64.59375 \r\nL 19.671875 43.015625 \r\nL 54.390625 43.015625 \r\nL 54.390625 34.71875 \r\nL 19.671875 34.71875 \r\nL 19.671875 8.296875 \r\nL 56.78125 8.296875 \r\nL 56.78125 0 \r\nL 9.8125 0 \r\nz\r\n\" id=\"DejaVuSans-69\"/>\r\n       <path d=\"M 9.8125 72.90625 \r\nL 23.09375 72.90625 \r\nL 55.421875 11.921875 \r\nL 55.421875 72.90625 \r\nL 64.984375 72.90625 \r\nL 64.984375 0 \r\nL 51.703125 0 \r\nL 19.390625 60.984375 \r\nL 19.390625 0 \r\nL 9.8125 0 \r\nz\r\n\" id=\"DejaVuSans-78\"/>\r\n      </defs>\r\n      <use xlink:href=\"#DejaVuSans-84\"/>\r\n      <use x=\"61.083984\" xlink:href=\"#DejaVuSans-79\"/>\r\n      <use x=\"139.794922\" xlink:href=\"#DejaVuSans-84\"/>\r\n      <use x=\"193.128906\" xlink:href=\"#DejaVuSans-65\"/>\r\n      <use x=\"261.537109\" xlink:href=\"#DejaVuSans-76\"/>\r\n      <use x=\"317.25\" xlink:href=\"#DejaVuSans-68\"/>\r\n      <use x=\"394.251953\" xlink:href=\"#DejaVuSans-69\"/>\r\n      <use x=\"457.435547\" xlink:href=\"#DejaVuSans-77\"/>\r\n      <use x=\"543.714844\" xlink:href=\"#DejaVuSans-65\"/>\r\n      <use x=\"612.123047\" xlink:href=\"#DejaVuSans-78\"/>\r\n      <use x=\"686.927734\" xlink:href=\"#DejaVuSans-68\"/>\r\n     </g>\r\n    </g>\r\n    <g id=\"line2d_37\">\r\n     <path d=\"M 248.33125 34.976562 \r\nL 268.33125 34.976562 \r\n\" style=\"fill:none;stroke:#ff7f0e;stroke-linecap:square;stroke-width:1.5;\"/>\r\n    </g>\r\n    <g id=\"line2d_38\"/>\r\n    <g id=\"text_14\">\r\n     <!-- Energy_pred -->\r\n     <g transform=\"translate(276.33125 38.476562)scale(0.1 -0.1)\">\r\n      <defs>\r\n       <path d=\"M 45.40625 27.984375 \r\nQ 45.40625 37.75 41.375 43.109375 \r\nQ 37.359375 48.484375 30.078125 48.484375 \r\nQ 22.859375 48.484375 18.828125 43.109375 \r\nQ 14.796875 37.75 14.796875 27.984375 \r\nQ 14.796875 18.265625 18.828125 12.890625 \r\nQ 22.859375 7.515625 30.078125 7.515625 \r\nQ 37.359375 7.515625 41.375 12.890625 \r\nQ 45.40625 18.265625 45.40625 27.984375 \r\nz\r\nM 54.390625 6.78125 \r\nQ 54.390625 -7.171875 48.1875 -13.984375 \r\nQ 42 -20.796875 29.203125 -20.796875 \r\nQ 24.46875 -20.796875 20.265625 -20.09375 \r\nQ 16.0625 -19.390625 12.109375 -17.921875 \r\nL 12.109375 -9.1875 \r\nQ 16.0625 -11.328125 19.921875 -12.34375 \r\nQ 23.78125 -13.375 27.78125 -13.375 \r\nQ 36.625 -13.375 41.015625 -8.765625 \r\nQ 45.40625 -4.15625 45.40625 5.171875 \r\nL 45.40625 9.625 \r\nQ 42.625 4.78125 38.28125 2.390625 \r\nQ 33.9375 0 27.875 0 \r\nQ 17.828125 0 11.671875 7.65625 \r\nQ 5.515625 15.328125 5.515625 27.984375 \r\nQ 5.515625 40.671875 11.671875 48.328125 \r\nQ 17.828125 56 27.875 56 \r\nQ 33.9375 56 38.28125 53.609375 \r\nQ 42.625 51.21875 45.40625 46.390625 \r\nL 45.40625 54.6875 \r\nL 54.390625 54.6875 \r\nz\r\n\" id=\"DejaVuSans-103\"/>\r\n       <path d=\"M 32.171875 -5.078125 \r\nQ 28.375 -14.84375 24.75 -17.8125 \r\nQ 21.140625 -20.796875 15.09375 -20.796875 \r\nL 7.90625 -20.796875 \r\nL 7.90625 -13.28125 \r\nL 13.1875 -13.28125 \r\nQ 16.890625 -13.28125 18.9375 -11.515625 \r\nQ 21 -9.765625 23.484375 -3.21875 \r\nL 25.09375 0.875 \r\nL 2.984375 54.6875 \r\nL 12.5 54.6875 \r\nL 29.59375 11.921875 \r\nL 46.6875 54.6875 \r\nL 56.203125 54.6875 \r\nz\r\n\" id=\"DejaVuSans-121\"/>\r\n       <path d=\"M 50.984375 -16.609375 \r\nL 50.984375 -23.578125 \r\nL -0.984375 -23.578125 \r\nL -0.984375 -16.609375 \r\nz\r\n\" id=\"DejaVuSans-95\"/>\r\n       <path d=\"M 18.109375 8.203125 \r\nL 18.109375 -20.796875 \r\nL 9.078125 -20.796875 \r\nL 9.078125 54.6875 \r\nL 18.109375 54.6875 \r\nL 18.109375 46.390625 \r\nQ 20.953125 51.265625 25.265625 53.625 \r\nQ 29.59375 56 35.59375 56 \r\nQ 45.5625 56 51.78125 48.09375 \r\nQ 58.015625 40.1875 58.015625 27.296875 \r\nQ 58.015625 14.40625 51.78125 6.484375 \r\nQ 45.5625 -1.421875 35.59375 -1.421875 \r\nQ 29.59375 -1.421875 25.265625 0.953125 \r\nQ 20.953125 3.328125 18.109375 8.203125 \r\nz\r\nM 48.6875 27.296875 \r\nQ 48.6875 37.203125 44.609375 42.84375 \r\nQ 40.53125 48.484375 33.40625 48.484375 \r\nQ 26.265625 48.484375 22.1875 42.84375 \r\nQ 18.109375 37.203125 18.109375 27.296875 \r\nQ 18.109375 17.390625 22.1875 11.75 \r\nQ 26.265625 6.109375 33.40625 6.109375 \r\nQ 40.53125 6.109375 44.609375 11.75 \r\nQ 48.6875 17.390625 48.6875 27.296875 \r\nz\r\n\" id=\"DejaVuSans-112\"/>\r\n       <path d=\"M 45.40625 46.390625 \r\nL 45.40625 75.984375 \r\nL 54.390625 75.984375 \r\nL 54.390625 0 \r\nL 45.40625 0 \r\nL 45.40625 8.203125 \r\nQ 42.578125 3.328125 38.25 0.953125 \r\nQ 33.9375 -1.421875 27.875 -1.421875 \r\nQ 17.96875 -1.421875 11.734375 6.484375 \r\nQ 5.515625 14.40625 5.515625 27.296875 \r\nQ 5.515625 40.1875 11.734375 48.09375 \r\nQ 17.96875 56 27.875 56 \r\nQ 33.9375 56 38.25 53.625 \r\nQ 42.578125 51.265625 45.40625 46.390625 \r\nz\r\nM 14.796875 27.296875 \r\nQ 14.796875 17.390625 18.875 11.75 \r\nQ 22.953125 6.109375 30.078125 6.109375 \r\nQ 37.203125 6.109375 41.296875 11.75 \r\nQ 45.40625 17.390625 45.40625 27.296875 \r\nQ 45.40625 37.203125 41.296875 42.84375 \r\nQ 37.203125 48.484375 30.078125 48.484375 \r\nQ 22.953125 48.484375 18.875 42.84375 \r\nQ 14.796875 37.203125 14.796875 27.296875 \r\nz\r\n\" id=\"DejaVuSans-100\"/>\r\n      </defs>\r\n      <use xlink:href=\"#DejaVuSans-69\"/>\r\n      <use x=\"63.183594\" xlink:href=\"#DejaVuSans-110\"/>\r\n      <use x=\"126.5625\" xlink:href=\"#DejaVuSans-101\"/>\r\n      <use x=\"188.085938\" xlink:href=\"#DejaVuSans-114\"/>\r\n      <use x=\"227.449219\" xlink:href=\"#DejaVuSans-103\"/>\r\n      <use x=\"290.925781\" xlink:href=\"#DejaVuSans-121\"/>\r\n      <use x=\"350.105469\" xlink:href=\"#DejaVuSans-95\"/>\r\n      <use x=\"400.105469\" xlink:href=\"#DejaVuSans-112\"/>\r\n      <use x=\"463.582031\" xlink:href=\"#DejaVuSans-114\"/>\r\n      <use x=\"502.445312\" xlink:href=\"#DejaVuSans-101\"/>\r\n      <use x=\"563.96875\" xlink:href=\"#DejaVuSans-100\"/>\r\n     </g>\r\n    </g>\r\n   </g>\r\n  </g>\r\n </g>\r\n <defs>\r\n  <clipPath id=\"pc2a5511c7b\">\r\n   <rect height=\"217.44\" width=\"334.8\" x=\"26.925\" y=\"7.2\"/>\r\n  </clipPath>\r\n </defs>\r\n</svg>\r\n",
      "image/png": "[encoded data removed]"
     },
     "metadata": {
      "needs_background": "light"
     }
    }
   ],
   "source": [
    "df_new[['TOTALDEMAND','Energy_pred']].plot()"
   ]
  }
 ]
}