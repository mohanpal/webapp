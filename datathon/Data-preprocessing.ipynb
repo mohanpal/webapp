{
 "metadata": {
  "language_info": {
   "codemirror_mode": {
    "name": "ipython",
    "version": 3
   },
   "file_extension": ".py",
   "mimetype": "text/x-python",
   "name": "python",
   "nbconvert_exporter": "python",
   "pygments_lexer": "ipython3",
   "version": "3.8.6-final"
  },
  "orig_nbformat": 2,
  "kernelspec": {
   "name": "Python 3.8.6 64-bit",
   "display_name": "Python 3.8.6 64-bit",
   "metadata": {
    "interpreter": {
     "hash": "9ddfba760c93d0781cb88c4db9a31eb68ca4e1616821530f19d735f356a5c9ec"
    }
   }
  }
 },
 "nbformat": 4,
 "nbformat_minor": 2,
 "cells": [
  {
   "cell_type": "code",
   "execution_count": 1,
   "metadata": {},
   "outputs": [],
   "source": [
    "import pandas as pd \n",
    "import numpy as np \n",
    "import matplotlib.dates as mdates\n",
    "import matplotlib.pyplot as plt"
   ]
  },
  {
   "cell_type": "code",
   "execution_count": 169,
   "metadata": {},
   "outputs": [],
   "source": [
    "\n",
    "# import os\n",
    "# import glob\n",
    "# #set working directory\n",
    "# os.chdir(\"C:/Users/HP/Desktop/datathon/App/Data/Meter Data\")\n",
    "# extension = 'csv'\n",
    "# all_filenames = [i for i in glob.glob('*.{}'.format(extension))]\n",
    "\n",
    "# combined_csv = pd.concat([pd.read_csv(f) for f in all_filenames ])\n",
    "# #export to csv\n",
    "# combined_csv.to_csv( \"Demand Data.csv\", index=False, encoding='utf-8-sig')\n"
   ]
  },
  {
   "cell_type": "code",
   "execution_count": 2,
   "metadata": {},
   "outputs": [],
   "source": [
    "df_demand = pd.read_csv(\"/Data/Demand_Data/Demand.csv\")\n",
    "df_income = pd.read_excel(\"C:/Users/HP/Desktop/datathon/App/Data/HouseholdIncome.xls\")\n",
    "df_cases = pd.read_csv(\"C:/Users/HP/Desktop/datathon/App/Data/covid cases.csv\")\n",
    "df_market = pd.read_excel(\"C:/Users/HP/Desktop/datathon/App/Data/share_market.xlsx\")\n",
    "df_temp_max = pd.read_csv(\"C:/Users/HP/Desktop/datathon/App/Data/Temp data/Max/Max_temp.csv\")\n",
    "df_dollar = pd.read_csv(\"C:/Users/HP/Desktop/datathon/App/Data/AUD_USD Historical Data.csv\")\n",
    "df_consumption = pd.read_csv(\"C:/Users/HP/Desktop/datathon/App/Data/Meter Data/Demand Data.csv\")\n",
    "\n"
   ]
  },
  {
   "cell_type": "code",
   "execution_count": 4,
   "metadata": {},
   "outputs": [
    {
     "output_type": "execute_result",
     "data": {
      "text/plain": [
       "    Day of Date  Cases  CasesNumbers\n",
       "0     31-Oct-20    NaN           0.0\n",
       "1     30-Oct-20    NaN           0.0\n",
       "2     29-Oct-20    3.0           3.0\n",
       "3     28-Oct-20    2.0           2.0\n",
       "4     27-Oct-20    2.0           2.0\n",
       "..          ...    ...           ...\n",
       "276   29-Jan-20    NaN           0.0\n",
       "277   28-Jan-20    1.0           1.0\n",
       "278   27-Jan-20    NaN           0.0\n",
       "279   26-Jan-20    NaN           0.0\n",
       "280   25-Jan-20    1.0           1.0\n",
       "\n",
       "[281 rows x 3 columns]"
      ],
      "text/html": "<div>\n<style scoped>\n    .dataframe tbody tr th:only-of-type {\n        vertical-align: middle;\n    }\n\n    .dataframe tbody tr th {\n        vertical-align: top;\n    }\n\n    .dataframe thead th {\n        text-align: right;\n    }\n</style>\n<table border=\"1\" class=\"dataframe\">\n  <thead>\n    <tr style=\"text-align: right;\">\n      <th></th>\n      <th>Day of Date</th>\n      <th>Cases</th>\n      <th>CasesNumbers</th>\n    </tr>\n  </thead>\n  <tbody>\n    <tr>\n      <th>0</th>\n      <td>31-Oct-20</td>\n      <td>NaN</td>\n      <td>0.0</td>\n    </tr>\n    <tr>\n      <th>1</th>\n      <td>30-Oct-20</td>\n      <td>NaN</td>\n      <td>0.0</td>\n    </tr>\n    <tr>\n      <th>2</th>\n      <td>29-Oct-20</td>\n      <td>3.0</td>\n      <td>3.0</td>\n    </tr>\n    <tr>\n      <th>3</th>\n      <td>28-Oct-20</td>\n      <td>2.0</td>\n      <td>2.0</td>\n    </tr>\n    <tr>\n      <th>4</th>\n      <td>27-Oct-20</td>\n      <td>2.0</td>\n      <td>2.0</td>\n    </tr>\n    <tr>\n      <th>...</th>\n      <td>...</td>\n      <td>...</td>\n      <td>...</td>\n    </tr>\n    <tr>\n      <th>276</th>\n      <td>29-Jan-20</td>\n      <td>NaN</td>\n      <td>0.0</td>\n    </tr>\n    <tr>\n      <th>277</th>\n      <td>28-Jan-20</td>\n      <td>1.0</td>\n      <td>1.0</td>\n    </tr>\n    <tr>\n      <th>278</th>\n      <td>27-Jan-20</td>\n      <td>NaN</td>\n      <td>0.0</td>\n    </tr>\n    <tr>\n      <th>279</th>\n      <td>26-Jan-20</td>\n      <td>NaN</td>\n      <td>0.0</td>\n    </tr>\n    <tr>\n      <th>280</th>\n      <td>25-Jan-20</td>\n      <td>1.0</td>\n      <td>1.0</td>\n    </tr>\n  </tbody>\n</table>\n<p>281 rows × 3 columns</p>\n</div>"
     },
     "metadata": {},
     "execution_count": 4
    }
   ],
   "source": [
    "df_temp_max"
   ]
  },
  {
   "cell_type": "code",
   "execution_count": 171,
   "metadata": {},
   "outputs": [],
   "source": [
    "df_demand = df_demand.drop(['REGION', 'PERIODTYPE'], axis = 1)  "
   ]
  },
  {
   "cell_type": "code",
   "execution_count": null,
   "metadata": {},
   "outputs": [],
   "source": []
  },
  {
   "cell_type": "code",
   "execution_count": 172,
   "metadata": {},
   "outputs": [],
   "source": [
    "# df_demand"
   ]
  },
  {
   "cell_type": "code",
   "execution_count": 173,
   "metadata": {},
   "outputs": [],
   "source": [
    "df_demand['SETTLEMENTDATE'] = pd.to_datetime(df_demand['SETTLEMENTDATE'])\n",
    "\n",
    "# Separate the date and time into 2 new columns\n",
    "df_demand['Date'] = [d.date() for d in df_demand['SETTLEMENTDATE']]\n",
    "df_demand['Time'] = [d.time() for d in df_demand['SETTLEMENTDATE']]\n",
    "\n",
    "# Convert the date-time column to the appropriate data type and format\n",
    "df_demand['Date'] = pd.to_datetime(df_demand['Date'])\n",
    "df_demand['Date'] = df_demand['Date'].dt.strftime('%d/%m/%y')\n",
    "df_demand['Date'] = pd.to_datetime(df_demand['Date'])\n"
   ]
  },
  {
   "cell_type": "code",
   "execution_count": 174,
   "metadata": {},
   "outputs": [],
   "source": [
    "# # df_demand['Date']\n",
    "# df_demand.index = pd.to_datetime(df_demand.index, unit='s')\n"
   ]
  },
  {
   "cell_type": "code",
   "execution_count": 175,
   "metadata": {},
   "outputs": [],
   "source": [
    "# df_demand2 = df_demand.resample('60min').sum()\n",
    "\n",
    "# # "
   ]
  },
  {
   "cell_type": "code",
   "execution_count": 176,
   "metadata": {},
   "outputs": [],
   "source": [
    "# df_demand2"
   ]
  },
  {
   "cell_type": "code",
   "execution_count": 177,
   "metadata": {},
   "outputs": [],
   "source": [
    "for i in df_consumption:\n",
    "    for column in df_consumption.columns:\n",
    "        if \"VAL\" in column:\n",
    "            df_consumption.drop(column, axis = 1, inplace=True)"
   ]
  },
  {
   "cell_type": "code",
   "execution_count": 178,
   "metadata": {},
   "outputs": [],
   "source": [
    "df_consumption.columns\n",
    "df_consumption = df_consumption.rename(columns={\"SETTD\":\"Date\"})\n"
   ]
  },
  {
   "cell_type": "code",
   "execution_count": 179,
   "metadata": {},
   "outputs": [],
   "source": [
    " df_consumption['Date'] = pd.to_datetime(df_consumption['Date'])\n",
    " df_consumption['Date'] = df_consumption['Date'].dt.strftime('%d/%m/%y')\n",
    " df_consumption['Date'] = pd.to_datetime(df_consumption['Date'])\n",
    "\n"
   ]
  },
  {
   "cell_type": "code",
   "execution_count": 180,
   "metadata": {},
   "outputs": [
    {
     "output_type": "execute_result",
     "data": {
      "text/plain": [
       "     PROFILEAREA       Date  DCTC       DAILYT\n",
       "0      CITIPOWER 2018-01-01  MRIM  3759688.195\n",
       "1      CITIPOWER 2018-01-02  MRIM  4206833.739\n",
       "2      CITIPOWER 2018-01-03  MRIM  4183068.156\n",
       "3      CITIPOWER 2018-01-04  MRIM  4348462.455\n",
       "4      CITIPOWER 2018-01-05  MRIM  4860247.751\n",
       "...          ...        ...   ...          ...\n",
       "4100      VICAGL 2020-03-27  MRIM  3664284.471\n",
       "4101      VICAGL 2020-03-28  MRIM  3550058.705\n",
       "4102      VICAGL 2020-03-29  MRIM  3768120.264\n",
       "4103      VICAGL 2020-03-30  MRIM  3630628.975\n",
       "4104      VICAGL 2020-03-31  MRIM  3564775.325\n",
       "\n",
       "[4105 rows x 4 columns]"
      ],
      "text/html": "<div>\n<style scoped>\n    .dataframe tbody tr th:only-of-type {\n        vertical-align: middle;\n    }\n\n    .dataframe tbody tr th {\n        vertical-align: top;\n    }\n\n    .dataframe thead th {\n        text-align: right;\n    }\n</style>\n<table border=\"1\" class=\"dataframe\">\n  <thead>\n    <tr style=\"text-align: right;\">\n      <th></th>\n      <th>PROFILEAREA</th>\n      <th>Date</th>\n      <th>DCTC</th>\n      <th>DAILYT</th>\n    </tr>\n  </thead>\n  <tbody>\n    <tr>\n      <th>0</th>\n      <td>CITIPOWER</td>\n      <td>2018-01-01</td>\n      <td>MRIM</td>\n      <td>3759688.195</td>\n    </tr>\n    <tr>\n      <th>1</th>\n      <td>CITIPOWER</td>\n      <td>2018-01-02</td>\n      <td>MRIM</td>\n      <td>4206833.739</td>\n    </tr>\n    <tr>\n      <th>2</th>\n      <td>CITIPOWER</td>\n      <td>2018-01-03</td>\n      <td>MRIM</td>\n      <td>4183068.156</td>\n    </tr>\n    <tr>\n      <th>3</th>\n      <td>CITIPOWER</td>\n      <td>2018-01-04</td>\n      <td>MRIM</td>\n      <td>4348462.455</td>\n    </tr>\n    <tr>\n      <th>4</th>\n      <td>CITIPOWER</td>\n      <td>2018-01-05</td>\n      <td>MRIM</td>\n      <td>4860247.751</td>\n    </tr>\n    <tr>\n      <th>...</th>\n      <td>...</td>\n      <td>...</td>\n      <td>...</td>\n      <td>...</td>\n    </tr>\n    <tr>\n      <th>4100</th>\n      <td>VICAGL</td>\n      <td>2020-03-27</td>\n      <td>MRIM</td>\n      <td>3664284.471</td>\n    </tr>\n    <tr>\n      <th>4101</th>\n      <td>VICAGL</td>\n      <td>2020-03-28</td>\n      <td>MRIM</td>\n      <td>3550058.705</td>\n    </tr>\n    <tr>\n      <th>4102</th>\n      <td>VICAGL</td>\n      <td>2020-03-29</td>\n      <td>MRIM</td>\n      <td>3768120.264</td>\n    </tr>\n    <tr>\n      <th>4103</th>\n      <td>VICAGL</td>\n      <td>2020-03-30</td>\n      <td>MRIM</td>\n      <td>3630628.975</td>\n    </tr>\n    <tr>\n      <th>4104</th>\n      <td>VICAGL</td>\n      <td>2020-03-31</td>\n      <td>MRIM</td>\n      <td>3564775.325</td>\n    </tr>\n  </tbody>\n</table>\n<p>4105 rows × 4 columns</p>\n</div>"
     },
     "metadata": {},
     "execution_count": 180
    }
   ],
   "source": [
    "df_consumption"
   ]
  },
  {
   "cell_type": "code",
   "execution_count": 181,
   "metadata": {},
   "outputs": [
    {
     "output_type": "execute_result",
     "data": {
      "text/plain": [
       "            SETTLEMENTDATE  TOTALDEMAND    RRP       Date      Time  \\\n",
       "0      2018-04-01 00:30:00      4198.37  87.84 2018-01-04  00:30:00   \n",
       "1      2018-04-01 00:30:00      4198.37  87.84 2018-01-04  00:30:00   \n",
       "2      2018-04-01 00:30:00      4198.37  87.84 2018-01-04  00:30:00   \n",
       "3      2018-04-01 00:30:00      4198.37  87.84 2018-01-04  00:30:00   \n",
       "4      2018-04-01 00:30:00      4198.37  87.84 2018-01-04  00:30:00   \n",
       "...                    ...          ...    ...        ...       ...   \n",
       "195590 2020-09-03 23:30:00      4893.17  31.94 2020-03-09  23:30:00   \n",
       "195591 2020-09-03 23:30:00      4893.17  31.94 2020-03-09  23:30:00   \n",
       "195592 2020-09-03 23:30:00      4893.17  31.94 2020-03-09  23:30:00   \n",
       "195593 2020-09-03 23:30:00      4893.17  31.94 2020-03-09  23:30:00   \n",
       "195594 2020-09-03 23:30:00      4893.17  31.94 2020-03-09  23:30:00   \n",
       "\n",
       "       PROFILEAREA  DCTC        DAILYT  \n",
       "0        CITIPOWER  MRIM  4.348462e+06  \n",
       "1         POWERCOR  MRIM  1.065627e+07  \n",
       "2              TXU  MRIM  8.331774e+06  \n",
       "3           UNITED  MRIM  7.046731e+06  \n",
       "4           VICAGL  MRIM  3.270755e+06  \n",
       "...            ...   ...           ...  \n",
       "195590   CITIPOWER  MRIM  3.989817e+06  \n",
       "195591    POWERCOR  MRIM  8.315687e+06  \n",
       "195592         TXU  MRIM  7.193878e+06  \n",
       "195593      UNITED  MRIM  6.601155e+06  \n",
       "195594      VICAGL  MRIM  3.120004e+06  \n",
       "\n",
       "[195595 rows x 8 columns]"
      ],
      "text/html": "<div>\n<style scoped>\n    .dataframe tbody tr th:only-of-type {\n        vertical-align: middle;\n    }\n\n    .dataframe tbody tr th {\n        vertical-align: top;\n    }\n\n    .dataframe thead th {\n        text-align: right;\n    }\n</style>\n<table border=\"1\" class=\"dataframe\">\n  <thead>\n    <tr style=\"text-align: right;\">\n      <th></th>\n      <th>SETTLEMENTDATE</th>\n      <th>TOTALDEMAND</th>\n      <th>RRP</th>\n      <th>Date</th>\n      <th>Time</th>\n      <th>PROFILEAREA</th>\n      <th>DCTC</th>\n      <th>DAILYT</th>\n    </tr>\n  </thead>\n  <tbody>\n    <tr>\n      <th>0</th>\n      <td>2018-04-01 00:30:00</td>\n      <td>4198.37</td>\n      <td>87.84</td>\n      <td>2018-01-04</td>\n      <td>00:30:00</td>\n      <td>CITIPOWER</td>\n      <td>MRIM</td>\n      <td>4.348462e+06</td>\n    </tr>\n    <tr>\n      <th>1</th>\n      <td>2018-04-01 00:30:00</td>\n      <td>4198.37</td>\n      <td>87.84</td>\n      <td>2018-01-04</td>\n      <td>00:30:00</td>\n      <td>POWERCOR</td>\n      <td>MRIM</td>\n      <td>1.065627e+07</td>\n    </tr>\n    <tr>\n      <th>2</th>\n      <td>2018-04-01 00:30:00</td>\n      <td>4198.37</td>\n      <td>87.84</td>\n      <td>2018-01-04</td>\n      <td>00:30:00</td>\n      <td>TXU</td>\n      <td>MRIM</td>\n      <td>8.331774e+06</td>\n    </tr>\n    <tr>\n      <th>3</th>\n      <td>2018-04-01 00:30:00</td>\n      <td>4198.37</td>\n      <td>87.84</td>\n      <td>2018-01-04</td>\n      <td>00:30:00</td>\n      <td>UNITED</td>\n      <td>MRIM</td>\n      <td>7.046731e+06</td>\n    </tr>\n    <tr>\n      <th>4</th>\n      <td>2018-04-01 00:30:00</td>\n      <td>4198.37</td>\n      <td>87.84</td>\n      <td>2018-01-04</td>\n      <td>00:30:00</td>\n      <td>VICAGL</td>\n      <td>MRIM</td>\n      <td>3.270755e+06</td>\n    </tr>\n    <tr>\n      <th>...</th>\n      <td>...</td>\n      <td>...</td>\n      <td>...</td>\n      <td>...</td>\n      <td>...</td>\n      <td>...</td>\n      <td>...</td>\n      <td>...</td>\n    </tr>\n    <tr>\n      <th>195590</th>\n      <td>2020-09-03 23:30:00</td>\n      <td>4893.17</td>\n      <td>31.94</td>\n      <td>2020-03-09</td>\n      <td>23:30:00</td>\n      <td>CITIPOWER</td>\n      <td>MRIM</td>\n      <td>3.989817e+06</td>\n    </tr>\n    <tr>\n      <th>195591</th>\n      <td>2020-09-03 23:30:00</td>\n      <td>4893.17</td>\n      <td>31.94</td>\n      <td>2020-03-09</td>\n      <td>23:30:00</td>\n      <td>POWERCOR</td>\n      <td>MRIM</td>\n      <td>8.315687e+06</td>\n    </tr>\n    <tr>\n      <th>195592</th>\n      <td>2020-09-03 23:30:00</td>\n      <td>4893.17</td>\n      <td>31.94</td>\n      <td>2020-03-09</td>\n      <td>23:30:00</td>\n      <td>TXU</td>\n      <td>MRIM</td>\n      <td>7.193878e+06</td>\n    </tr>\n    <tr>\n      <th>195593</th>\n      <td>2020-09-03 23:30:00</td>\n      <td>4893.17</td>\n      <td>31.94</td>\n      <td>2020-03-09</td>\n      <td>23:30:00</td>\n      <td>UNITED</td>\n      <td>MRIM</td>\n      <td>6.601155e+06</td>\n    </tr>\n    <tr>\n      <th>195594</th>\n      <td>2020-09-03 23:30:00</td>\n      <td>4893.17</td>\n      <td>31.94</td>\n      <td>2020-03-09</td>\n      <td>23:30:00</td>\n      <td>VICAGL</td>\n      <td>MRIM</td>\n      <td>3.120004e+06</td>\n    </tr>\n  </tbody>\n</table>\n<p>195595 rows × 8 columns</p>\n</div>"
     },
     "metadata": {},
     "execution_count": 181
    }
   ],
   "source": [
    "df_final = pd.merge(df_demand, df_consumption, how = 'inner', on = ['Date'])\n",
    "\n",
    "df_final"
   ]
  },
  {
   "cell_type": "code",
   "execution_count": 182,
   "metadata": {},
   "outputs": [],
   "source": [
    "# df_new = df_final.resample('D').sum()\n",
    "\n"
   ]
  },
  {
   "cell_type": "code",
   "execution_count": 183,
   "metadata": {},
   "outputs": [],
   "source": [
    "df_temp_max = df_temp_max.drop(['Product code',\n",
    "                                'Bureau of Meteorology station number',\n",
    "                                'Days of accumulation of maximum temperature',\n",
    "                                'Quality'], axis = 1).rename({'Maximum temperature (Degree C)': 'MaxTemp'}, axis = 1)\n",
    "\n",
    "df_temp_min = df_temp_min.drop(['Product code',\n",
    "                                'Bureau of Meteorology station number',\n",
    "                                'Days of accumulation of minimum temperature',\n",
    "                                'Quality'], axis = 1).rename({'Minimum temperature (Degree C)': 'MinTemp'}, axis = 1)\n"
   ]
  },
  {
   "cell_type": "code",
   "execution_count": 184,
   "metadata": {},
   "outputs": [],
   "source": [
    "temp = pd.merge(df_temp_max, df_temp_min, how = 'inner', on = ['Year', 'Month', 'Day'])\n"
   ]
  },
  {
   "cell_type": "code",
   "execution_count": 185,
   "metadata": {},
   "outputs": [],
   "source": [
    "temp = temp[temp.Year > 2017].reset_index().drop('index', axis = 1)"
   ]
  },
  {
   "cell_type": "code",
   "execution_count": 186,
   "metadata": {},
   "outputs": [],
   "source": [
    "date = pd.to_datetime(temp[['Year', 'Month', 'Day']])\n",
    "temp['Date'] = date\n",
    "\n",
    "# Drop the 3 individual year, month and day columns\n",
    "temp = temp.drop(['Year', 'Month', 'Day'], axis = 1) "
   ]
  },
  {
   "cell_type": "code",
   "execution_count": 187,
   "metadata": {},
   "outputs": [],
   "source": [
    "df_main = pd.merge(temp, df_final, how = 'inner', on = ['Date'])\n"
   ]
  },
  {
   "cell_type": "code",
   "execution_count": 188,
   "metadata": {},
   "outputs": [
    {
     "output_type": "execute_result",
     "data": {
      "text/plain": [
       "         MaxTemp  MinTemp       Date  TOTALDEMAND    RRP      Time  \\\n",
       "0           24.8     16.4 2018-01-01      4251.18  92.46  00:30:00   \n",
       "1           24.8     16.4 2018-01-01      4251.18  92.46  00:30:00   \n",
       "2           24.8     16.4 2018-01-01      4251.18  92.46  00:30:00   \n",
       "3           24.8     16.4 2018-01-01      4251.18  92.46  00:30:00   \n",
       "4           24.8     16.4 2018-01-01      4251.18  92.46  00:30:00   \n",
       "...          ...      ...        ...          ...    ...       ...   \n",
       "7041415     20.6     10.5 2020-03-31      4615.58  52.67  23:30:00   \n",
       "7041416     20.6     10.5 2020-03-31      4615.58  52.67  23:30:00   \n",
       "7041417     20.6     10.5 2020-03-31      4615.58  52.67  23:30:00   \n",
       "7041418     20.6     10.5 2020-03-31      4615.58  52.67  23:30:00   \n",
       "7041419     20.6     10.5 2020-03-31      4615.58  52.67  23:30:00   \n",
       "\n",
       "        PROFILEAREA       DAILYT  \n",
       "0         CITIPOWER  3759688.195  \n",
       "1          POWERCOR  9616862.065  \n",
       "2               TXU  7668650.128  \n",
       "3            UNITED  6625930.554  \n",
       "4            VICAGL  3077561.363  \n",
       "...             ...          ...  \n",
       "7041415   CITIPOWER  4181160.890  \n",
       "7041416    POWERCOR  9435896.572  \n",
       "7041417         TXU  7952010.519  \n",
       "7041418      UNITED  7356096.252  \n",
       "7041419      VICAGL  3564775.325  \n",
       "\n",
       "[7041420 rows x 8 columns]"
      ],
      "text/html": "<div>\n<style scoped>\n    .dataframe tbody tr th:only-of-type {\n        vertical-align: middle;\n    }\n\n    .dataframe tbody tr th {\n        vertical-align: top;\n    }\n\n    .dataframe thead th {\n        text-align: right;\n    }\n</style>\n<table border=\"1\" class=\"dataframe\">\n  <thead>\n    <tr style=\"text-align: right;\">\n      <th></th>\n      <th>MaxTemp</th>\n      <th>MinTemp</th>\n      <th>Date</th>\n      <th>TOTALDEMAND</th>\n      <th>RRP</th>\n      <th>Time</th>\n      <th>PROFILEAREA</th>\n      <th>DAILYT</th>\n    </tr>\n  </thead>\n  <tbody>\n    <tr>\n      <th>0</th>\n      <td>24.8</td>\n      <td>16.4</td>\n      <td>2018-01-01</td>\n      <td>4251.18</td>\n      <td>92.46</td>\n      <td>00:30:00</td>\n      <td>CITIPOWER</td>\n      <td>3759688.195</td>\n    </tr>\n    <tr>\n      <th>1</th>\n      <td>24.8</td>\n      <td>16.4</td>\n      <td>2018-01-01</td>\n      <td>4251.18</td>\n      <td>92.46</td>\n      <td>00:30:00</td>\n      <td>POWERCOR</td>\n      <td>9616862.065</td>\n    </tr>\n    <tr>\n      <th>2</th>\n      <td>24.8</td>\n      <td>16.4</td>\n      <td>2018-01-01</td>\n      <td>4251.18</td>\n      <td>92.46</td>\n      <td>00:30:00</td>\n      <td>TXU</td>\n      <td>7668650.128</td>\n    </tr>\n    <tr>\n      <th>3</th>\n      <td>24.8</td>\n      <td>16.4</td>\n      <td>2018-01-01</td>\n      <td>4251.18</td>\n      <td>92.46</td>\n      <td>00:30:00</td>\n      <td>UNITED</td>\n      <td>6625930.554</td>\n    </tr>\n    <tr>\n      <th>4</th>\n      <td>24.8</td>\n      <td>16.4</td>\n      <td>2018-01-01</td>\n      <td>4251.18</td>\n      <td>92.46</td>\n      <td>00:30:00</td>\n      <td>VICAGL</td>\n      <td>3077561.363</td>\n    </tr>\n    <tr>\n      <th>...</th>\n      <td>...</td>\n      <td>...</td>\n      <td>...</td>\n      <td>...</td>\n      <td>...</td>\n      <td>...</td>\n      <td>...</td>\n      <td>...</td>\n    </tr>\n    <tr>\n      <th>7041415</th>\n      <td>20.6</td>\n      <td>10.5</td>\n      <td>2020-03-31</td>\n      <td>4615.58</td>\n      <td>52.67</td>\n      <td>23:30:00</td>\n      <td>CITIPOWER</td>\n      <td>4181160.890</td>\n    </tr>\n    <tr>\n      <th>7041416</th>\n      <td>20.6</td>\n      <td>10.5</td>\n      <td>2020-03-31</td>\n      <td>4615.58</td>\n      <td>52.67</td>\n      <td>23:30:00</td>\n      <td>POWERCOR</td>\n      <td>9435896.572</td>\n    </tr>\n    <tr>\n      <th>7041417</th>\n      <td>20.6</td>\n      <td>10.5</td>\n      <td>2020-03-31</td>\n      <td>4615.58</td>\n      <td>52.67</td>\n      <td>23:30:00</td>\n      <td>TXU</td>\n      <td>7952010.519</td>\n    </tr>\n    <tr>\n      <th>7041418</th>\n      <td>20.6</td>\n      <td>10.5</td>\n      <td>2020-03-31</td>\n      <td>4615.58</td>\n      <td>52.67</td>\n      <td>23:30:00</td>\n      <td>UNITED</td>\n      <td>7356096.252</td>\n    </tr>\n    <tr>\n      <th>7041419</th>\n      <td>20.6</td>\n      <td>10.5</td>\n      <td>2020-03-31</td>\n      <td>4615.58</td>\n      <td>52.67</td>\n      <td>23:30:00</td>\n      <td>VICAGL</td>\n      <td>3564775.325</td>\n    </tr>\n  </tbody>\n</table>\n<p>7041420 rows × 8 columns</p>\n</div>"
     },
     "metadata": {},
     "execution_count": 188
    }
   ],
   "source": [
    "df_main = df_main.drop(['SETTLEMENTDATE', 'DCTC'], axis = 1)\n",
    "df_main"
   ]
  },
  {
   "cell_type": "code",
   "execution_count": 189,
   "metadata": {},
   "outputs": [
    {
     "output_type": "execute_result",
     "data": {
      "text/plain": [
       "         MaxTemp  MinTemp       Date  TOTALDEMAND    RRP      Time  \\\n",
       "0           24.8     16.4 2018-01-01      4251.18  92.46  00:30:00   \n",
       "1           24.8     16.4 2018-01-01      4251.18  92.46  00:30:00   \n",
       "2           24.8     16.4 2018-01-01      4251.18  92.46  00:30:00   \n",
       "3           24.8     16.4 2018-01-01      4251.18  92.46  00:30:00   \n",
       "4           24.8     16.4 2018-01-01      4251.18  92.46  00:30:00   \n",
       "...          ...      ...        ...          ...    ...       ...   \n",
       "7041415     20.6     10.5 2020-03-31      4615.58  52.67  23:30:00   \n",
       "7041416     20.6     10.5 2020-03-31      4615.58  52.67  23:30:00   \n",
       "7041417     20.6     10.5 2020-03-31      4615.58  52.67  23:30:00   \n",
       "7041418     20.6     10.5 2020-03-31      4615.58  52.67  23:30:00   \n",
       "7041419     20.6     10.5 2020-03-31      4615.58  52.67  23:30:00   \n",
       "\n",
       "        PROFILEAREA       DAILYT  \n",
       "0         CITIPOWER  3759688.195  \n",
       "1          POWERCOR  9616862.065  \n",
       "2               TXU  7668650.128  \n",
       "3            UNITED  6625930.554  \n",
       "4            VICAGL  3077561.363  \n",
       "...             ...          ...  \n",
       "7041415   CITIPOWER  4181160.890  \n",
       "7041416    POWERCOR  9435896.572  \n",
       "7041417         TXU  7952010.519  \n",
       "7041418      UNITED  7356096.252  \n",
       "7041419      VICAGL  3564775.325  \n",
       "\n",
       "[6981000 rows x 8 columns]"
      ],
      "text/html": "<div>\n<style scoped>\n    .dataframe tbody tr th:only-of-type {\n        vertical-align: middle;\n    }\n\n    .dataframe tbody tr th {\n        vertical-align: top;\n    }\n\n    .dataframe thead th {\n        text-align: right;\n    }\n</style>\n<table border=\"1\" class=\"dataframe\">\n  <thead>\n    <tr style=\"text-align: right;\">\n      <th></th>\n      <th>MaxTemp</th>\n      <th>MinTemp</th>\n      <th>Date</th>\n      <th>TOTALDEMAND</th>\n      <th>RRP</th>\n      <th>Time</th>\n      <th>PROFILEAREA</th>\n      <th>DAILYT</th>\n    </tr>\n  </thead>\n  <tbody>\n    <tr>\n      <th>0</th>\n      <td>24.8</td>\n      <td>16.4</td>\n      <td>2018-01-01</td>\n      <td>4251.18</td>\n      <td>92.46</td>\n      <td>00:30:00</td>\n      <td>CITIPOWER</td>\n      <td>3759688.195</td>\n    </tr>\n    <tr>\n      <th>1</th>\n      <td>24.8</td>\n      <td>16.4</td>\n      <td>2018-01-01</td>\n      <td>4251.18</td>\n      <td>92.46</td>\n      <td>00:30:00</td>\n      <td>POWERCOR</td>\n      <td>9616862.065</td>\n    </tr>\n    <tr>\n      <th>2</th>\n      <td>24.8</td>\n      <td>16.4</td>\n      <td>2018-01-01</td>\n      <td>4251.18</td>\n      <td>92.46</td>\n      <td>00:30:00</td>\n      <td>TXU</td>\n      <td>7668650.128</td>\n    </tr>\n    <tr>\n      <th>3</th>\n      <td>24.8</td>\n      <td>16.4</td>\n      <td>2018-01-01</td>\n      <td>4251.18</td>\n      <td>92.46</td>\n      <td>00:30:00</td>\n      <td>UNITED</td>\n      <td>6625930.554</td>\n    </tr>\n    <tr>\n      <th>4</th>\n      <td>24.8</td>\n      <td>16.4</td>\n      <td>2018-01-01</td>\n      <td>4251.18</td>\n      <td>92.46</td>\n      <td>00:30:00</td>\n      <td>VICAGL</td>\n      <td>3077561.363</td>\n    </tr>\n    <tr>\n      <th>...</th>\n      <td>...</td>\n      <td>...</td>\n      <td>...</td>\n      <td>...</td>\n      <td>...</td>\n      <td>...</td>\n      <td>...</td>\n      <td>...</td>\n    </tr>\n    <tr>\n      <th>7041415</th>\n      <td>20.6</td>\n      <td>10.5</td>\n      <td>2020-03-31</td>\n      <td>4615.58</td>\n      <td>52.67</td>\n      <td>23:30:00</td>\n      <td>CITIPOWER</td>\n      <td>4181160.890</td>\n    </tr>\n    <tr>\n      <th>7041416</th>\n      <td>20.6</td>\n      <td>10.5</td>\n      <td>2020-03-31</td>\n      <td>4615.58</td>\n      <td>52.67</td>\n      <td>23:30:00</td>\n      <td>POWERCOR</td>\n      <td>9435896.572</td>\n    </tr>\n    <tr>\n      <th>7041417</th>\n      <td>20.6</td>\n      <td>10.5</td>\n      <td>2020-03-31</td>\n      <td>4615.58</td>\n      <td>52.67</td>\n      <td>23:30:00</td>\n      <td>TXU</td>\n      <td>7952010.519</td>\n    </tr>\n    <tr>\n      <th>7041418</th>\n      <td>20.6</td>\n      <td>10.5</td>\n      <td>2020-03-31</td>\n      <td>4615.58</td>\n      <td>52.67</td>\n      <td>23:30:00</td>\n      <td>UNITED</td>\n      <td>7356096.252</td>\n    </tr>\n    <tr>\n      <th>7041419</th>\n      <td>20.6</td>\n      <td>10.5</td>\n      <td>2020-03-31</td>\n      <td>4615.58</td>\n      <td>52.67</td>\n      <td>23:30:00</td>\n      <td>VICAGL</td>\n      <td>3564775.325</td>\n    </tr>\n  </tbody>\n</table>\n<p>6981000 rows × 8 columns</p>\n</div>"
     },
     "metadata": {},
     "execution_count": 189
    }
   ],
   "source": [
    "df_main.dropna()"
   ]
  },
  {
   "cell_type": "code",
   "execution_count": 190,
   "metadata": {},
   "outputs": [],
   "source": [
    "# df_new = df_final.resample('D').sum()\n",
    "\n"
   ]
  },
  {
   "cell_type": "code",
   "execution_count": 191,
   "metadata": {},
   "outputs": [
    {
     "output_type": "execute_result",
     "data": {
      "text/plain": [
       "         MaxTemp  MinTemp       Date  TOTALDEMAND    RRP      Time  \\\n",
       "0           24.8     16.4 2018-01-01      4251.18  92.46  00:30:00   \n",
       "1           24.8     16.4 2018-01-01      4251.18  92.46  00:30:00   \n",
       "2           24.8     16.4 2018-01-01      4251.18  92.46  00:30:00   \n",
       "3           24.8     16.4 2018-01-01      4251.18  92.46  00:30:00   \n",
       "4           24.8     16.4 2018-01-01      4251.18  92.46  00:30:00   \n",
       "...          ...      ...        ...          ...    ...       ...   \n",
       "1648270     20.6     10.5 2020-03-31      4615.58  52.67  23:30:00   \n",
       "1648271     20.6     10.5 2020-03-31      4615.58  52.67  23:30:00   \n",
       "1648272     20.6     10.5 2020-03-31      4615.58  52.67  23:30:00   \n",
       "1648273     20.6     10.5 2020-03-31      4615.58  52.67  23:30:00   \n",
       "1648274     20.6     10.5 2020-03-31      4615.58  52.67  23:30:00   \n",
       "\n",
       "        PROFILEAREA       DAILYT  \n",
       "0         CITIPOWER  3759688.195  \n",
       "1          POWERCOR  9616862.065  \n",
       "2               TXU  7668650.128  \n",
       "3            UNITED  6625930.554  \n",
       "4            VICAGL  3077561.363  \n",
       "...             ...          ...  \n",
       "1648270   CITIPOWER  4181160.890  \n",
       "1648271    POWERCOR  9435896.572  \n",
       "1648272         TXU  7952010.519  \n",
       "1648273      UNITED  7356096.252  \n",
       "1648274      VICAGL  3564775.325  \n",
       "\n",
       "[1648275 rows x 8 columns]"
      ],
      "text/html": "<div>\n<style scoped>\n    .dataframe tbody tr th:only-of-type {\n        vertical-align: middle;\n    }\n\n    .dataframe tbody tr th {\n        vertical-align: top;\n    }\n\n    .dataframe thead th {\n        text-align: right;\n    }\n</style>\n<table border=\"1\" class=\"dataframe\">\n  <thead>\n    <tr style=\"text-align: right;\">\n      <th></th>\n      <th>MaxTemp</th>\n      <th>MinTemp</th>\n      <th>Date</th>\n      <th>TOTALDEMAND</th>\n      <th>RRP</th>\n      <th>Time</th>\n      <th>PROFILEAREA</th>\n      <th>DAILYT</th>\n    </tr>\n  </thead>\n  <tbody>\n    <tr>\n      <th>0</th>\n      <td>24.8</td>\n      <td>16.4</td>\n      <td>2018-01-01</td>\n      <td>4251.18</td>\n      <td>92.46</td>\n      <td>00:30:00</td>\n      <td>CITIPOWER</td>\n      <td>3759688.195</td>\n    </tr>\n    <tr>\n      <th>1</th>\n      <td>24.8</td>\n      <td>16.4</td>\n      <td>2018-01-01</td>\n      <td>4251.18</td>\n      <td>92.46</td>\n      <td>00:30:00</td>\n      <td>POWERCOR</td>\n      <td>9616862.065</td>\n    </tr>\n    <tr>\n      <th>2</th>\n      <td>24.8</td>\n      <td>16.4</td>\n      <td>2018-01-01</td>\n      <td>4251.18</td>\n      <td>92.46</td>\n      <td>00:30:00</td>\n      <td>TXU</td>\n      <td>7668650.128</td>\n    </tr>\n    <tr>\n      <th>3</th>\n      <td>24.8</td>\n      <td>16.4</td>\n      <td>2018-01-01</td>\n      <td>4251.18</td>\n      <td>92.46</td>\n      <td>00:30:00</td>\n      <td>UNITED</td>\n      <td>6625930.554</td>\n    </tr>\n    <tr>\n      <th>4</th>\n      <td>24.8</td>\n      <td>16.4</td>\n      <td>2018-01-01</td>\n      <td>4251.18</td>\n      <td>92.46</td>\n      <td>00:30:00</td>\n      <td>VICAGL</td>\n      <td>3077561.363</td>\n    </tr>\n    <tr>\n      <th>...</th>\n      <td>...</td>\n      <td>...</td>\n      <td>...</td>\n      <td>...</td>\n      <td>...</td>\n      <td>...</td>\n      <td>...</td>\n      <td>...</td>\n    </tr>\n    <tr>\n      <th>1648270</th>\n      <td>20.6</td>\n      <td>10.5</td>\n      <td>2020-03-31</td>\n      <td>4615.58</td>\n      <td>52.67</td>\n      <td>23:30:00</td>\n      <td>CITIPOWER</td>\n      <td>4181160.890</td>\n    </tr>\n    <tr>\n      <th>1648271</th>\n      <td>20.6</td>\n      <td>10.5</td>\n      <td>2020-03-31</td>\n      <td>4615.58</td>\n      <td>52.67</td>\n      <td>23:30:00</td>\n      <td>POWERCOR</td>\n      <td>9435896.572</td>\n    </tr>\n    <tr>\n      <th>1648272</th>\n      <td>20.6</td>\n      <td>10.5</td>\n      <td>2020-03-31</td>\n      <td>4615.58</td>\n      <td>52.67</td>\n      <td>23:30:00</td>\n      <td>TXU</td>\n      <td>7952010.519</td>\n    </tr>\n    <tr>\n      <th>1648273</th>\n      <td>20.6</td>\n      <td>10.5</td>\n      <td>2020-03-31</td>\n      <td>4615.58</td>\n      <td>52.67</td>\n      <td>23:30:00</td>\n      <td>UNITED</td>\n      <td>7356096.252</td>\n    </tr>\n    <tr>\n      <th>1648274</th>\n      <td>20.6</td>\n      <td>10.5</td>\n      <td>2020-03-31</td>\n      <td>4615.58</td>\n      <td>52.67</td>\n      <td>23:30:00</td>\n      <td>VICAGL</td>\n      <td>3564775.325</td>\n    </tr>\n  </tbody>\n</table>\n<p>1648275 rows × 8 columns</p>\n</div>"
     },
     "metadata": {},
     "execution_count": 191
    }
   ],
   "source": [
    "df = df_main.drop_duplicates().reset_index(drop=True)\n",
    "df\n"
   ]
  },
  {
   "cell_type": "code",
   "execution_count": 192,
   "metadata": {},
   "outputs": [],
   "source": [
    "# df= df[df.PROFILEAREA != 'TXU']\n",
    "# df= df[df.PROFILEAREA != 'VICAGL']\n",
    "# df= df[df.PROFILEAREA != 'POWERCOR']\n",
    "\n"
   ]
  },
  {
   "cell_type": "code",
   "execution_count": 193,
   "metadata": {},
   "outputs": [
    {
     "output_type": "execute_result",
     "data": {
      "text/plain": [
       "(1648275, 7)"
      ]
     },
     "metadata": {},
     "execution_count": 193
    }
   ],
   "source": [
    "df.set_index(['Date'], inplace=True)\n",
    "df.head()\n",
    "df.shape"
   ]
  },
  {
   "cell_type": "code",
   "execution_count": 194,
   "metadata": {},
   "outputs": [],
   "source": [
    "df_new = df.resample('D').mean()\n",
    "\n"
   ]
  },
  {
   "cell_type": "code",
   "execution_count": 195,
   "metadata": {},
   "outputs": [
    {
     "output_type": "execute_result",
     "data": {
      "text/plain": [
       "              MaxTemp    MinTemp  TOTALDEMAND        RRP        DAILYT\n",
       "Date                                                                  \n",
       "2018-01-01  24.866667  16.500000  3988.814894  71.063404  6.149738e+06\n",
       "2018-01-02  22.533333  16.250000  4581.217083  71.768750  6.381157e+06\n",
       "2018-01-03  21.433333  14.033333  4889.427500  77.660000  6.219129e+06\n",
       "2018-01-04  23.300000  12.833333  4117.376250  73.070833  6.730797e+06\n",
       "2018-01-05  31.000000  13.433333  5110.093125  72.521667  7.976139e+06\n",
       "...               ...        ...          ...        ...           ...\n",
       "2020-03-27  27.700000  12.433333  4664.926875  48.927500  6.698559e+06\n",
       "2020-03-28  27.966667  13.433333  4080.154792  46.997083  6.587342e+06\n",
       "2020-03-29  26.966667  18.066667  3998.050208  41.331250  7.075753e+06\n",
       "2020-03-30  21.833333  15.366667  4486.979583  56.481875  6.653502e+06\n",
       "2020-03-31  20.966667  10.900000  4543.494375  57.191875  6.497988e+06\n",
       "\n",
       "[821 rows x 5 columns]"
      ],
      "text/html": "<div>\n<style scoped>\n    .dataframe tbody tr th:only-of-type {\n        vertical-align: middle;\n    }\n\n    .dataframe tbody tr th {\n        vertical-align: top;\n    }\n\n    .dataframe thead th {\n        text-align: right;\n    }\n</style>\n<table border=\"1\" class=\"dataframe\">\n  <thead>\n    <tr style=\"text-align: right;\">\n      <th></th>\n      <th>MaxTemp</th>\n      <th>MinTemp</th>\n      <th>TOTALDEMAND</th>\n      <th>RRP</th>\n      <th>DAILYT</th>\n    </tr>\n    <tr>\n      <th>Date</th>\n      <th></th>\n      <th></th>\n      <th></th>\n      <th></th>\n      <th></th>\n    </tr>\n  </thead>\n  <tbody>\n    <tr>\n      <th>2018-01-01</th>\n      <td>24.866667</td>\n      <td>16.500000</td>\n      <td>3988.814894</td>\n      <td>71.063404</td>\n      <td>6.149738e+06</td>\n    </tr>\n    <tr>\n      <th>2018-01-02</th>\n      <td>22.533333</td>\n      <td>16.250000</td>\n      <td>4581.217083</td>\n      <td>71.768750</td>\n      <td>6.381157e+06</td>\n    </tr>\n    <tr>\n      <th>2018-01-03</th>\n      <td>21.433333</td>\n      <td>14.033333</td>\n      <td>4889.427500</td>\n      <td>77.660000</td>\n      <td>6.219129e+06</td>\n    </tr>\n    <tr>\n      <th>2018-01-04</th>\n      <td>23.300000</td>\n      <td>12.833333</td>\n      <td>4117.376250</td>\n      <td>73.070833</td>\n      <td>6.730797e+06</td>\n    </tr>\n    <tr>\n      <th>2018-01-05</th>\n      <td>31.000000</td>\n      <td>13.433333</td>\n      <td>5110.093125</td>\n      <td>72.521667</td>\n      <td>7.976139e+06</td>\n    </tr>\n    <tr>\n      <th>...</th>\n      <td>...</td>\n      <td>...</td>\n      <td>...</td>\n      <td>...</td>\n      <td>...</td>\n    </tr>\n    <tr>\n      <th>2020-03-27</th>\n      <td>27.700000</td>\n      <td>12.433333</td>\n      <td>4664.926875</td>\n      <td>48.927500</td>\n      <td>6.698559e+06</td>\n    </tr>\n    <tr>\n      <th>2020-03-28</th>\n      <td>27.966667</td>\n      <td>13.433333</td>\n      <td>4080.154792</td>\n      <td>46.997083</td>\n      <td>6.587342e+06</td>\n    </tr>\n    <tr>\n      <th>2020-03-29</th>\n      <td>26.966667</td>\n      <td>18.066667</td>\n      <td>3998.050208</td>\n      <td>41.331250</td>\n      <td>7.075753e+06</td>\n    </tr>\n    <tr>\n      <th>2020-03-30</th>\n      <td>21.833333</td>\n      <td>15.366667</td>\n      <td>4486.979583</td>\n      <td>56.481875</td>\n      <td>6.653502e+06</td>\n    </tr>\n    <tr>\n      <th>2020-03-31</th>\n      <td>20.966667</td>\n      <td>10.900000</td>\n      <td>4543.494375</td>\n      <td>57.191875</td>\n      <td>6.497988e+06</td>\n    </tr>\n  </tbody>\n</table>\n<p>821 rows × 5 columns</p>\n</div>"
     },
     "metadata": {},
     "execution_count": 195
    }
   ],
   "source": [
    "df_new"
   ]
  },
  {
   "cell_type": "code",
   "execution_count": 196,
   "metadata": {},
   "outputs": [
    {
     "output_type": "execute_result",
     "data": {
      "text/plain": [
       "Index(['MaxTemp', 'MinTemp', 'TOTALDEMAND', 'RRP', 'DAILYT'], dtype='object')"
      ]
     },
     "metadata": {},
     "execution_count": 196
    }
   ],
   "source": [
    "df_new.columns"
   ]
  },
  {
   "cell_type": "code",
   "execution_count": 197,
   "metadata": {},
   "outputs": [],
   "source": [
    "# df = df.drop(['Time'],axis=1)\n",
    "# df = df.drop(['DAILYT'],axis=1)\n",
    "\n",
    "# # categorical_cols = df.columns[df.dtypes==object].tolist()\n",
    "\n",
    "\n",
    "# # for col in categorical_cols:\n",
    "# #     n = len(df[col].unique())\n",
    "# #     if (n == 2):\n",
    "# #         df[col] = pd.get_dummies(df[col], drop_first=True)\n",
    "\n",
    "# # # for other categorical features (with > 2 levels), \n",
    "# # # use regular one-hot-encoding \n",
    "# # # if a feature is numeric, it will be untouched\n",
    "\n",
    "# # df = pd.get_dummies(df)\n",
    "# # df\n"
   ]
  },
  {
   "cell_type": "code",
   "execution_count": 198,
   "metadata": {},
   "outputs": [
    {
     "output_type": "execute_result",
     "data": {
      "text/plain": [
       "(821, 5)"
      ]
     },
     "metadata": {},
     "execution_count": 198
    }
   ],
   "source": [
    "df_new.shape"
   ]
  },
  {
   "cell_type": "code",
   "execution_count": 199,
   "metadata": {},
   "outputs": [
    {
     "output_type": "execute_result",
     "data": {
      "text/plain": [
       "MaxTemp        6\n",
       "MinTemp        6\n",
       "TOTALDEMAND    6\n",
       "RRP            6\n",
       "DAILYT         6\n",
       "dtype: int64"
      ]
     },
     "metadata": {},
     "execution_count": 199
    }
   ],
   "source": [
    "df_new.isnull().sum() # no missing values in our data"
   ]
  },
  {
   "cell_type": "code",
   "execution_count": 200,
   "metadata": {},
   "outputs": [],
   "source": [
    "df_new = df_new.fillna(df_new.mean()) #missing values imputing"
   ]
  },
  {
   "cell_type": "code",
   "execution_count": 201,
   "metadata": {},
   "outputs": [
    {
     "output_type": "execute_result",
     "data": {
      "text/plain": [
       "MaxTemp        0\n",
       "MinTemp        0\n",
       "TOTALDEMAND    0\n",
       "RRP            0\n",
       "DAILYT         0\n",
       "dtype: int64"
      ]
     },
     "metadata": {},
     "execution_count": 201
    }
   ],
   "source": [
    "df_new.isnull().sum()"
   ]
  },
  {
   "cell_type": "code",
   "execution_count": 202,
   "metadata": {},
   "outputs": [],
   "source": [
    "# df_final = pd.merge(df_new, cat, how = 'inner', on = ['Date'])\n"
   ]
  },
  {
   "cell_type": "code",
   "execution_count": 203,
   "metadata": {},
   "outputs": [
    {
     "output_type": "execute_result",
     "data": {
      "text/plain": [
       "              MaxTemp    MinTemp  TOTALDEMAND        RRP        DAILYT\n",
       "Date                                                                  \n",
       "2018-01-01  24.866667  16.500000  3988.814894  71.063404  6.149738e+06\n",
       "2018-01-02  22.533333  16.250000  4581.217083  71.768750  6.381157e+06\n",
       "2018-01-03  21.433333  14.033333  4889.427500  77.660000  6.219129e+06\n",
       "2018-01-04  23.300000  12.833333  4117.376250  73.070833  6.730797e+06\n",
       "2018-01-05  31.000000  13.433333  5110.093125  72.521667  7.976139e+06\n",
       "...               ...        ...          ...        ...           ...\n",
       "2020-03-27  27.700000  12.433333  4664.926875  48.927500  6.698559e+06\n",
       "2020-03-28  27.966667  13.433333  4080.154792  46.997083  6.587342e+06\n",
       "2020-03-29  26.966667  18.066667  3998.050208  41.331250  7.075753e+06\n",
       "2020-03-30  21.833333  15.366667  4486.979583  56.481875  6.653502e+06\n",
       "2020-03-31  20.966667  10.900000  4543.494375  57.191875  6.497988e+06\n",
       "\n",
       "[821 rows x 5 columns]"
      ],
      "text/html": "<div>\n<style scoped>\n    .dataframe tbody tr th:only-of-type {\n        vertical-align: middle;\n    }\n\n    .dataframe tbody tr th {\n        vertical-align: top;\n    }\n\n    .dataframe thead th {\n        text-align: right;\n    }\n</style>\n<table border=\"1\" class=\"dataframe\">\n  <thead>\n    <tr style=\"text-align: right;\">\n      <th></th>\n      <th>MaxTemp</th>\n      <th>MinTemp</th>\n      <th>TOTALDEMAND</th>\n      <th>RRP</th>\n      <th>DAILYT</th>\n    </tr>\n    <tr>\n      <th>Date</th>\n      <th></th>\n      <th></th>\n      <th></th>\n      <th></th>\n      <th></th>\n    </tr>\n  </thead>\n  <tbody>\n    <tr>\n      <th>2018-01-01</th>\n      <td>24.866667</td>\n      <td>16.500000</td>\n      <td>3988.814894</td>\n      <td>71.063404</td>\n      <td>6.149738e+06</td>\n    </tr>\n    <tr>\n      <th>2018-01-02</th>\n      <td>22.533333</td>\n      <td>16.250000</td>\n      <td>4581.217083</td>\n      <td>71.768750</td>\n      <td>6.381157e+06</td>\n    </tr>\n    <tr>\n      <th>2018-01-03</th>\n      <td>21.433333</td>\n      <td>14.033333</td>\n      <td>4889.427500</td>\n      <td>77.660000</td>\n      <td>6.219129e+06</td>\n    </tr>\n    <tr>\n      <th>2018-01-04</th>\n      <td>23.300000</td>\n      <td>12.833333</td>\n      <td>4117.376250</td>\n      <td>73.070833</td>\n      <td>6.730797e+06</td>\n    </tr>\n    <tr>\n      <th>2018-01-05</th>\n      <td>31.000000</td>\n      <td>13.433333</td>\n      <td>5110.093125</td>\n      <td>72.521667</td>\n      <td>7.976139e+06</td>\n    </tr>\n    <tr>\n      <th>...</th>\n      <td>...</td>\n      <td>...</td>\n      <td>...</td>\n      <td>...</td>\n      <td>...</td>\n    </tr>\n    <tr>\n      <th>2020-03-27</th>\n      <td>27.700000</td>\n      <td>12.433333</td>\n      <td>4664.926875</td>\n      <td>48.927500</td>\n      <td>6.698559e+06</td>\n    </tr>\n    <tr>\n      <th>2020-03-28</th>\n      <td>27.966667</td>\n      <td>13.433333</td>\n      <td>4080.154792</td>\n      <td>46.997083</td>\n      <td>6.587342e+06</td>\n    </tr>\n    <tr>\n      <th>2020-03-29</th>\n      <td>26.966667</td>\n      <td>18.066667</td>\n      <td>3998.050208</td>\n      <td>41.331250</td>\n      <td>7.075753e+06</td>\n    </tr>\n    <tr>\n      <th>2020-03-30</th>\n      <td>21.833333</td>\n      <td>15.366667</td>\n      <td>4486.979583</td>\n      <td>56.481875</td>\n      <td>6.653502e+06</td>\n    </tr>\n    <tr>\n      <th>2020-03-31</th>\n      <td>20.966667</td>\n      <td>10.900000</td>\n      <td>4543.494375</td>\n      <td>57.191875</td>\n      <td>6.497988e+06</td>\n    </tr>\n  </tbody>\n</table>\n<p>821 rows × 5 columns</p>\n</div>"
     },
     "metadata": {},
     "execution_count": 203
    }
   ],
   "source": [
    "df_new.to_csv(r'C:/Users/HP/Desktop/datathon/App/final_data.csv')\n",
    "df_new"
   ]
  }
 ]
}
